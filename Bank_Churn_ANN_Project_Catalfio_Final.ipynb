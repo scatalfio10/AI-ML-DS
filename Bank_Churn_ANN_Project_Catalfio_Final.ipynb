{
 "cells": [
  {
   "cell_type": "markdown",
   "id": "wZeYS-yGPtUa",
   "metadata": {
    "id": "wZeYS-yGPtUa"
   },
   "source": [
    "## **Bank Churn ANN Project Catalfio**"
   ]
  },
  {
   "cell_type": "code",
   "execution_count": 1,
   "id": "dfdd3588",
   "metadata": {
    "colab": {
     "base_uri": "https://localhost:8080/"
    },
    "executionInfo": {
     "elapsed": 2641,
     "status": "ok",
     "timestamp": 1637380507057,
     "user": {
      "displayName": "Stephen Catalfio",
      "photoUrl": "https://lh3.googleusercontent.com/a/default-user=s64",
      "userId": "01995132954552918474"
     },
     "user_tz": 420
    },
    "id": "dfdd3588",
    "outputId": "669fa9f9-349d-4722-9d88-9d3b70ac3649"
   },
   "outputs": [
    {
     "name": "stdout",
     "output_type": "stream",
     "text": [
      "2.7.0\n"
     ]
    }
   ],
   "source": [
    "#importing tensorflow\n",
    "import tensorflow as tf\n",
    "print(tf.__version__)"
   ]
  },
  {
   "cell_type": "code",
   "execution_count": 2,
   "id": "d98a4b6c",
   "metadata": {
    "executionInfo": {
     "elapsed": 7,
     "status": "ok",
     "timestamp": 1637380507058,
     "user": {
      "displayName": "Stephen Catalfio",
      "photoUrl": "https://lh3.googleusercontent.com/a/default-user=s64",
      "userId": "01995132954552918474"
     },
     "user_tz": 420
    },
    "id": "d98a4b6c"
   },
   "outputs": [],
   "source": [
    "import pandas as pd\n",
    "import numpy as np\n",
    "from sklearn.model_selection import train_test_split\n",
    "import tensorflow as tf\n",
    "from sklearn import preprocessing\n",
    "from tensorflow.keras.models import Sequential\n",
    "from tensorflow.keras.layers import Dense, Dropout\n",
    "from sklearn.metrics import accuracy_score, confusion_matrix, precision_score, recall_score, f1_score, precision_recall_curve, auc\n",
    "import matplotlib.pyplot as plt\n",
    "from tensorflow.keras import optimizers\n",
    "from sklearn.decomposition import PCA\n",
    "import seaborn as sns\n",
    "import keras\n",
    "import tensorflow as tf\n",
    "from keras import backend as K\n",
    "from keras.models import Sequential\n",
    "from keras.layers import Dense, Dropout\n",
    "from tensorflow.keras.optimizers import Adam\n",
    "import random\n",
    "random.seed(1)\n",
    "np.random.seed(1) \n",
    "tf.random.set_seed(1)\n",
    "import warnings\n",
    "warnings.filterwarnings(\"ignore\")"
   ]
  },
  {
   "cell_type": "markdown",
   "id": "9-89m4R2S1Rz",
   "metadata": {
    "id": "9-89m4R2S1Rz"
   },
   "source": [
    "### **Description**\n",
    "\n",
    "**Background and Context**\n",
    "\n",
    "Businesses like banks that provide service have to worry about the problem of 'Churn' i.e. customers leaving and joining another service provider. It is important to understand which aspects of the service influence a customer's decision in this regard. Management can concentrate efforts on the improvement of service, keeping in mind these priorities.\n",
    "\n",
    "**Objective**\n",
    "\n",
    "Given a Bank customer, build a neural network-based classifier that can determine whether they will leave or not in the next 6 months.\n",
    "\n",
    "**Data Description**\n",
    "\n",
    "The case study is from an open-source dataset from Kaggle. The dataset contains 10,000 sample points with 14 distinct features such as CustomerId, CreditScore, Geography, Gender, Age, Tenure, Balance, etc."
   ]
  },
  {
   "cell_type": "markdown",
   "id": "PQFF-Ws8TKS5",
   "metadata": {
    "id": "PQFF-Ws8TKS5"
   },
   "source": [
    "**Data Dictionary**\n",
    "\n",
    "**CustomerId:** Unique ID which is assigned to each customer\n",
    "\n",
    "**Surname:** Last name of the customer \n",
    "\n",
    "**CreditScore**: It defines the credit history of the customer.  \n",
    "\n",
    "**Geography**: A customer’s location    \n",
    "\n",
    "**Gender**: It defines the Gender of the customer   \n",
    "\n",
    "**Age**: Age of the customer     \n",
    "\n",
    "**Tenure**: Number of years for which the customer has been with the bank\n",
    "\n",
    "**NumOfProducts**: It refers to the number of products that a customer has purchased through the bank.\n",
    "\n",
    "**Balance**: Account balance\n",
    "\n",
    "**HasCrCard**: It is a categorical variable that decides whether the customer has a credit card or not.\n",
    "\n",
    "**EstimatedSalary**: Estimated salary \n",
    "\n",
    "**isActiveMember**: It is a categorical variable that decides whether the customer is an active member of the bank or not ( Active member in the sense, using bank products regularly, making transactions, etc )\n",
    "\n",
    "**Exited**: It is a categorical variable that decides whether the customer left the bank within six months or not. It can take two values "
   ]
  },
  {
   "cell_type": "markdown",
   "id": "_xXebhwHQbMe",
   "metadata": {
    "id": "_xXebhwHQbMe"
   },
   "source": [
    "### **Reading the Dataset and Feature Elimination**"
   ]
  },
  {
   "cell_type": "code",
   "execution_count": 3,
   "id": "gInACClTDmvt",
   "metadata": {
    "colab": {
     "base_uri": "https://localhost:8080/"
    },
    "executionInfo": {
     "elapsed": 5,
     "status": "ok",
     "timestamp": 1637380507058,
     "user": {
      "displayName": "Stephen Catalfio",
      "photoUrl": "https://lh3.googleusercontent.com/a/default-user=s64",
      "userId": "01995132954552918474"
     },
     "user_tz": 420
    },
    "id": "gInACClTDmvt",
    "outputId": "b7593a0d-2c8d-41d9-d7ea-9352b36c2ce8"
   },
   "outputs": [
    {
     "name": "stdout",
     "output_type": "stream",
     "text": [
      "Drive already mounted at /content/gdrive; to attempt to forcibly remount, call drive.mount(\"/content/gdrive\", force_remount=True).\n"
     ]
    }
   ],
   "source": [
    "from google.colab import drive\n",
    "drive.mount(\"/content/gdrive\")"
   ]
  },
  {
   "cell_type": "code",
   "execution_count": 4,
   "id": "ktNR_T_wEMRA",
   "metadata": {
    "colab": {
     "base_uri": "https://localhost:8080/",
     "height": 439
    },
    "executionInfo": {
     "elapsed": 191,
     "status": "ok",
     "timestamp": 1637380507245,
     "user": {
      "displayName": "Stephen Catalfio",
      "photoUrl": "https://lh3.googleusercontent.com/a/default-user=s64",
      "userId": "01995132954552918474"
     },
     "user_tz": 420
    },
    "id": "ktNR_T_wEMRA",
    "outputId": "19f2c18d-af03-4ea7-e5ee-bc4adeab2b7e"
   },
   "outputs": [
    {
     "data": {
      "text/html": [
       "<div>\n",
       "<style scoped>\n",
       "    .dataframe tbody tr th:only-of-type {\n",
       "        vertical-align: middle;\n",
       "    }\n",
       "\n",
       "    .dataframe tbody tr th {\n",
       "        vertical-align: top;\n",
       "    }\n",
       "\n",
       "    .dataframe thead th {\n",
       "        text-align: right;\n",
       "    }\n",
       "</style>\n",
       "<table border=\"1\" class=\"dataframe\">\n",
       "  <thead>\n",
       "    <tr style=\"text-align: right;\">\n",
       "      <th></th>\n",
       "      <th>RowNumber</th>\n",
       "      <th>CustomerId</th>\n",
       "      <th>Surname</th>\n",
       "      <th>CreditScore</th>\n",
       "      <th>Geography</th>\n",
       "      <th>Gender</th>\n",
       "      <th>Age</th>\n",
       "      <th>Tenure</th>\n",
       "      <th>Balance</th>\n",
       "      <th>NumOfProducts</th>\n",
       "      <th>HasCrCard</th>\n",
       "      <th>IsActiveMember</th>\n",
       "      <th>EstimatedSalary</th>\n",
       "      <th>Exited</th>\n",
       "    </tr>\n",
       "  </thead>\n",
       "  <tbody>\n",
       "    <tr>\n",
       "      <th>0</th>\n",
       "      <td>1</td>\n",
       "      <td>15634602</td>\n",
       "      <td>Hargrave</td>\n",
       "      <td>619</td>\n",
       "      <td>France</td>\n",
       "      <td>Female</td>\n",
       "      <td>42</td>\n",
       "      <td>2</td>\n",
       "      <td>0.00</td>\n",
       "      <td>1</td>\n",
       "      <td>1</td>\n",
       "      <td>1</td>\n",
       "      <td>101348.88</td>\n",
       "      <td>1</td>\n",
       "    </tr>\n",
       "    <tr>\n",
       "      <th>1</th>\n",
       "      <td>2</td>\n",
       "      <td>15647311</td>\n",
       "      <td>Hill</td>\n",
       "      <td>608</td>\n",
       "      <td>Spain</td>\n",
       "      <td>Female</td>\n",
       "      <td>41</td>\n",
       "      <td>1</td>\n",
       "      <td>83807.86</td>\n",
       "      <td>1</td>\n",
       "      <td>0</td>\n",
       "      <td>1</td>\n",
       "      <td>112542.58</td>\n",
       "      <td>0</td>\n",
       "    </tr>\n",
       "    <tr>\n",
       "      <th>2</th>\n",
       "      <td>3</td>\n",
       "      <td>15619304</td>\n",
       "      <td>Onio</td>\n",
       "      <td>502</td>\n",
       "      <td>France</td>\n",
       "      <td>Female</td>\n",
       "      <td>42</td>\n",
       "      <td>8</td>\n",
       "      <td>159660.80</td>\n",
       "      <td>3</td>\n",
       "      <td>1</td>\n",
       "      <td>0</td>\n",
       "      <td>113931.57</td>\n",
       "      <td>1</td>\n",
       "    </tr>\n",
       "    <tr>\n",
       "      <th>3</th>\n",
       "      <td>4</td>\n",
       "      <td>15701354</td>\n",
       "      <td>Boni</td>\n",
       "      <td>699</td>\n",
       "      <td>France</td>\n",
       "      <td>Female</td>\n",
       "      <td>39</td>\n",
       "      <td>1</td>\n",
       "      <td>0.00</td>\n",
       "      <td>2</td>\n",
       "      <td>0</td>\n",
       "      <td>0</td>\n",
       "      <td>93826.63</td>\n",
       "      <td>0</td>\n",
       "    </tr>\n",
       "    <tr>\n",
       "      <th>4</th>\n",
       "      <td>5</td>\n",
       "      <td>15737888</td>\n",
       "      <td>Mitchell</td>\n",
       "      <td>850</td>\n",
       "      <td>Spain</td>\n",
       "      <td>Female</td>\n",
       "      <td>43</td>\n",
       "      <td>2</td>\n",
       "      <td>125510.82</td>\n",
       "      <td>1</td>\n",
       "      <td>1</td>\n",
       "      <td>1</td>\n",
       "      <td>79084.10</td>\n",
       "      <td>0</td>\n",
       "    </tr>\n",
       "    <tr>\n",
       "      <th>...</th>\n",
       "      <td>...</td>\n",
       "      <td>...</td>\n",
       "      <td>...</td>\n",
       "      <td>...</td>\n",
       "      <td>...</td>\n",
       "      <td>...</td>\n",
       "      <td>...</td>\n",
       "      <td>...</td>\n",
       "      <td>...</td>\n",
       "      <td>...</td>\n",
       "      <td>...</td>\n",
       "      <td>...</td>\n",
       "      <td>...</td>\n",
       "      <td>...</td>\n",
       "    </tr>\n",
       "    <tr>\n",
       "      <th>9995</th>\n",
       "      <td>9996</td>\n",
       "      <td>15606229</td>\n",
       "      <td>Obijiaku</td>\n",
       "      <td>771</td>\n",
       "      <td>France</td>\n",
       "      <td>Male</td>\n",
       "      <td>39</td>\n",
       "      <td>5</td>\n",
       "      <td>0.00</td>\n",
       "      <td>2</td>\n",
       "      <td>1</td>\n",
       "      <td>0</td>\n",
       "      <td>96270.64</td>\n",
       "      <td>0</td>\n",
       "    </tr>\n",
       "    <tr>\n",
       "      <th>9996</th>\n",
       "      <td>9997</td>\n",
       "      <td>15569892</td>\n",
       "      <td>Johnstone</td>\n",
       "      <td>516</td>\n",
       "      <td>France</td>\n",
       "      <td>Male</td>\n",
       "      <td>35</td>\n",
       "      <td>10</td>\n",
       "      <td>57369.61</td>\n",
       "      <td>1</td>\n",
       "      <td>1</td>\n",
       "      <td>1</td>\n",
       "      <td>101699.77</td>\n",
       "      <td>0</td>\n",
       "    </tr>\n",
       "    <tr>\n",
       "      <th>9997</th>\n",
       "      <td>9998</td>\n",
       "      <td>15584532</td>\n",
       "      <td>Liu</td>\n",
       "      <td>709</td>\n",
       "      <td>France</td>\n",
       "      <td>Female</td>\n",
       "      <td>36</td>\n",
       "      <td>7</td>\n",
       "      <td>0.00</td>\n",
       "      <td>1</td>\n",
       "      <td>0</td>\n",
       "      <td>1</td>\n",
       "      <td>42085.58</td>\n",
       "      <td>1</td>\n",
       "    </tr>\n",
       "    <tr>\n",
       "      <th>9998</th>\n",
       "      <td>9999</td>\n",
       "      <td>15682355</td>\n",
       "      <td>Sabbatini</td>\n",
       "      <td>772</td>\n",
       "      <td>Germany</td>\n",
       "      <td>Male</td>\n",
       "      <td>42</td>\n",
       "      <td>3</td>\n",
       "      <td>75075.31</td>\n",
       "      <td>2</td>\n",
       "      <td>1</td>\n",
       "      <td>0</td>\n",
       "      <td>92888.52</td>\n",
       "      <td>1</td>\n",
       "    </tr>\n",
       "    <tr>\n",
       "      <th>9999</th>\n",
       "      <td>10000</td>\n",
       "      <td>15628319</td>\n",
       "      <td>Walker</td>\n",
       "      <td>792</td>\n",
       "      <td>France</td>\n",
       "      <td>Female</td>\n",
       "      <td>28</td>\n",
       "      <td>4</td>\n",
       "      <td>130142.79</td>\n",
       "      <td>1</td>\n",
       "      <td>1</td>\n",
       "      <td>0</td>\n",
       "      <td>38190.78</td>\n",
       "      <td>0</td>\n",
       "    </tr>\n",
       "  </tbody>\n",
       "</table>\n",
       "<p>10000 rows × 14 columns</p>\n",
       "</div>"
      ],
      "text/plain": [
       "      RowNumber  CustomerId    Surname  ...  IsActiveMember EstimatedSalary Exited\n",
       "0             1    15634602   Hargrave  ...               1       101348.88      1\n",
       "1             2    15647311       Hill  ...               1       112542.58      0\n",
       "2             3    15619304       Onio  ...               0       113931.57      1\n",
       "3             4    15701354       Boni  ...               0        93826.63      0\n",
       "4             5    15737888   Mitchell  ...               1        79084.10      0\n",
       "...         ...         ...        ...  ...             ...             ...    ...\n",
       "9995       9996    15606229   Obijiaku  ...               0        96270.64      0\n",
       "9996       9997    15569892  Johnstone  ...               1       101699.77      0\n",
       "9997       9998    15584532        Liu  ...               1        42085.58      1\n",
       "9998       9999    15682355  Sabbatini  ...               0        92888.52      1\n",
       "9999      10000    15628319     Walker  ...               0        38190.78      0\n",
       "\n",
       "[10000 rows x 14 columns]"
      ]
     },
     "execution_count": 4,
     "metadata": {},
     "output_type": "execute_result"
    }
   ],
   "source": [
    "pd.read_csv('/content/gdrive/MyDrive/bank.csv')"
   ]
  },
  {
   "cell_type": "code",
   "execution_count": 5,
   "id": "c4dbc627",
   "metadata": {
    "executionInfo": {
     "elapsed": 15,
     "status": "ok",
     "timestamp": 1637380507245,
     "user": {
      "displayName": "Stephen Catalfio",
      "photoUrl": "https://lh3.googleusercontent.com/a/default-user=s64",
      "userId": "01995132954552918474"
     },
     "user_tz": 420
    },
    "id": "c4dbc627"
   },
   "outputs": [],
   "source": [
    "# import dataset \"bank.csv\"\n",
    "data = pd.read_csv('/content/gdrive/MyDrive/bank.csv')"
   ]
  },
  {
   "cell_type": "code",
   "execution_count": 6,
   "id": "fe9b8efc",
   "metadata": {
    "colab": {
     "base_uri": "https://localhost:8080/",
     "height": 224
    },
    "executionInfo": {
     "elapsed": 16,
     "status": "ok",
     "timestamp": 1637380507246,
     "user": {
      "displayName": "Stephen Catalfio",
      "photoUrl": "https://lh3.googleusercontent.com/a/default-user=s64",
      "userId": "01995132954552918474"
     },
     "user_tz": 420
    },
    "id": "fe9b8efc",
    "outputId": "d0618725-91d8-445d-fa75-98d120495ed6"
   },
   "outputs": [
    {
     "data": {
      "text/html": [
       "<div>\n",
       "<style scoped>\n",
       "    .dataframe tbody tr th:only-of-type {\n",
       "        vertical-align: middle;\n",
       "    }\n",
       "\n",
       "    .dataframe tbody tr th {\n",
       "        vertical-align: top;\n",
       "    }\n",
       "\n",
       "    .dataframe thead th {\n",
       "        text-align: right;\n",
       "    }\n",
       "</style>\n",
       "<table border=\"1\" class=\"dataframe\">\n",
       "  <thead>\n",
       "    <tr style=\"text-align: right;\">\n",
       "      <th></th>\n",
       "      <th>RowNumber</th>\n",
       "      <th>CustomerId</th>\n",
       "      <th>Surname</th>\n",
       "      <th>CreditScore</th>\n",
       "      <th>Geography</th>\n",
       "      <th>Gender</th>\n",
       "      <th>Age</th>\n",
       "      <th>Tenure</th>\n",
       "      <th>Balance</th>\n",
       "      <th>NumOfProducts</th>\n",
       "      <th>HasCrCard</th>\n",
       "      <th>IsActiveMember</th>\n",
       "      <th>EstimatedSalary</th>\n",
       "      <th>Exited</th>\n",
       "    </tr>\n",
       "  </thead>\n",
       "  <tbody>\n",
       "    <tr>\n",
       "      <th>0</th>\n",
       "      <td>1</td>\n",
       "      <td>15634602</td>\n",
       "      <td>Hargrave</td>\n",
       "      <td>619</td>\n",
       "      <td>France</td>\n",
       "      <td>Female</td>\n",
       "      <td>42</td>\n",
       "      <td>2</td>\n",
       "      <td>0.00</td>\n",
       "      <td>1</td>\n",
       "      <td>1</td>\n",
       "      <td>1</td>\n",
       "      <td>101348.88</td>\n",
       "      <td>1</td>\n",
       "    </tr>\n",
       "    <tr>\n",
       "      <th>1</th>\n",
       "      <td>2</td>\n",
       "      <td>15647311</td>\n",
       "      <td>Hill</td>\n",
       "      <td>608</td>\n",
       "      <td>Spain</td>\n",
       "      <td>Female</td>\n",
       "      <td>41</td>\n",
       "      <td>1</td>\n",
       "      <td>83807.86</td>\n",
       "      <td>1</td>\n",
       "      <td>0</td>\n",
       "      <td>1</td>\n",
       "      <td>112542.58</td>\n",
       "      <td>0</td>\n",
       "    </tr>\n",
       "    <tr>\n",
       "      <th>2</th>\n",
       "      <td>3</td>\n",
       "      <td>15619304</td>\n",
       "      <td>Onio</td>\n",
       "      <td>502</td>\n",
       "      <td>France</td>\n",
       "      <td>Female</td>\n",
       "      <td>42</td>\n",
       "      <td>8</td>\n",
       "      <td>159660.80</td>\n",
       "      <td>3</td>\n",
       "      <td>1</td>\n",
       "      <td>0</td>\n",
       "      <td>113931.57</td>\n",
       "      <td>1</td>\n",
       "    </tr>\n",
       "    <tr>\n",
       "      <th>3</th>\n",
       "      <td>4</td>\n",
       "      <td>15701354</td>\n",
       "      <td>Boni</td>\n",
       "      <td>699</td>\n",
       "      <td>France</td>\n",
       "      <td>Female</td>\n",
       "      <td>39</td>\n",
       "      <td>1</td>\n",
       "      <td>0.00</td>\n",
       "      <td>2</td>\n",
       "      <td>0</td>\n",
       "      <td>0</td>\n",
       "      <td>93826.63</td>\n",
       "      <td>0</td>\n",
       "    </tr>\n",
       "    <tr>\n",
       "      <th>4</th>\n",
       "      <td>5</td>\n",
       "      <td>15737888</td>\n",
       "      <td>Mitchell</td>\n",
       "      <td>850</td>\n",
       "      <td>Spain</td>\n",
       "      <td>Female</td>\n",
       "      <td>43</td>\n",
       "      <td>2</td>\n",
       "      <td>125510.82</td>\n",
       "      <td>1</td>\n",
       "      <td>1</td>\n",
       "      <td>1</td>\n",
       "      <td>79084.10</td>\n",
       "      <td>0</td>\n",
       "    </tr>\n",
       "  </tbody>\n",
       "</table>\n",
       "</div>"
      ],
      "text/plain": [
       "   RowNumber  CustomerId   Surname  ...  IsActiveMember EstimatedSalary Exited\n",
       "0          1    15634602  Hargrave  ...               1       101348.88      1\n",
       "1          2    15647311      Hill  ...               1       112542.58      0\n",
       "2          3    15619304      Onio  ...               0       113931.57      1\n",
       "3          4    15701354      Boni  ...               0        93826.63      0\n",
       "4          5    15737888  Mitchell  ...               1        79084.10      0\n",
       "\n",
       "[5 rows x 14 columns]"
      ]
     },
     "execution_count": 6,
     "metadata": {},
     "output_type": "execute_result"
    }
   ],
   "source": [
    "data.head()"
   ]
  },
  {
   "cell_type": "code",
   "execution_count": 7,
   "id": "1b1c03c9",
   "metadata": {
    "colab": {
     "base_uri": "https://localhost:8080/"
    },
    "executionInfo": {
     "elapsed": 15,
     "status": "ok",
     "timestamp": 1637380507246,
     "user": {
      "displayName": "Stephen Catalfio",
      "photoUrl": "https://lh3.googleusercontent.com/a/default-user=s64",
      "userId": "01995132954552918474"
     },
     "user_tz": 420
    },
    "id": "1b1c03c9",
    "outputId": "aa62f6df-d94e-4ba3-bdc5-a45cd03f3602"
   },
   "outputs": [
    {
     "data": {
      "text/plain": [
       "(10000, 14)"
      ]
     },
     "execution_count": 7,
     "metadata": {},
     "output_type": "execute_result"
    }
   ],
   "source": [
    "# determining how many rows and columns in data\n",
    "\n",
    "data.shape"
   ]
  },
  {
   "cell_type": "code",
   "execution_count": 8,
   "id": "7103fa7d",
   "metadata": {
    "colab": {
     "base_uri": "https://localhost:8080/"
    },
    "executionInfo": {
     "elapsed": 9,
     "status": "ok",
     "timestamp": 1637380507246,
     "user": {
      "displayName": "Stephen Catalfio",
      "photoUrl": "https://lh3.googleusercontent.com/a/default-user=s64",
      "userId": "01995132954552918474"
     },
     "user_tz": 420
    },
    "id": "7103fa7d",
    "outputId": "5920742a-74c5-424a-9c26-ffc21feeaee4"
   },
   "outputs": [
    {
     "name": "stdout",
     "output_type": "stream",
     "text": [
      "<class 'pandas.core.frame.DataFrame'>\n",
      "RangeIndex: 10000 entries, 0 to 9999\n",
      "Data columns (total 14 columns):\n",
      " #   Column           Non-Null Count  Dtype  \n",
      "---  ------           --------------  -----  \n",
      " 0   RowNumber        10000 non-null  int64  \n",
      " 1   CustomerId       10000 non-null  int64  \n",
      " 2   Surname          10000 non-null  object \n",
      " 3   CreditScore      10000 non-null  int64  \n",
      " 4   Geography        10000 non-null  object \n",
      " 5   Gender           10000 non-null  object \n",
      " 6   Age              10000 non-null  int64  \n",
      " 7   Tenure           10000 non-null  int64  \n",
      " 8   Balance          10000 non-null  float64\n",
      " 9   NumOfProducts    10000 non-null  int64  \n",
      " 10  HasCrCard        10000 non-null  int64  \n",
      " 11  IsActiveMember   10000 non-null  int64  \n",
      " 12  EstimatedSalary  10000 non-null  float64\n",
      " 13  Exited           10000 non-null  int64  \n",
      "dtypes: float64(2), int64(9), object(3)\n",
      "memory usage: 1.1+ MB\n"
     ]
    }
   ],
   "source": [
    "data.info()"
   ]
  },
  {
   "cell_type": "code",
   "execution_count": 9,
   "id": "a8d1af80",
   "metadata": {
    "colab": {
     "base_uri": "https://localhost:8080/"
    },
    "executionInfo": {
     "elapsed": 164,
     "status": "ok",
     "timestamp": 1637380507406,
     "user": {
      "displayName": "Stephen Catalfio",
      "photoUrl": "https://lh3.googleusercontent.com/a/default-user=s64",
      "userId": "01995132954552918474"
     },
     "user_tz": 420
    },
    "id": "a8d1af80",
    "outputId": "5a8ae973-b466-45a0-bfbd-65ad58542ec0"
   },
   "outputs": [
    {
     "data": {
      "text/plain": [
       "RowNumber          0\n",
       "CustomerId         0\n",
       "Surname            0\n",
       "CreditScore        0\n",
       "Geography          0\n",
       "Gender             0\n",
       "Age                0\n",
       "Tenure             0\n",
       "Balance            0\n",
       "NumOfProducts      0\n",
       "HasCrCard          0\n",
       "IsActiveMember     0\n",
       "EstimatedSalary    0\n",
       "Exited             0\n",
       "dtype: int64"
      ]
     },
     "execution_count": 9,
     "metadata": {},
     "output_type": "execute_result"
    }
   ],
   "source": [
    "# determining the missing values found in each individual column\n",
    "\n",
    "data.isnull().sum()"
   ]
  },
  {
   "cell_type": "code",
   "execution_count": 10,
   "id": "vQ8agnS6Qv1x",
   "metadata": {
    "colab": {
     "base_uri": "https://localhost:8080/",
     "height": 317
    },
    "executionInfo": {
     "elapsed": 4,
     "status": "ok",
     "timestamp": 1637380507407,
     "user": {
      "displayName": "Stephen Catalfio",
      "photoUrl": "https://lh3.googleusercontent.com/a/default-user=s64",
      "userId": "01995132954552918474"
     },
     "user_tz": 420
    },
    "id": "vQ8agnS6Qv1x",
    "outputId": "f3a2ad73-4919-4299-f327-78719acecf15"
   },
   "outputs": [
    {
     "data": {
      "text/html": [
       "<div>\n",
       "<style scoped>\n",
       "    .dataframe tbody tr th:only-of-type {\n",
       "        vertical-align: middle;\n",
       "    }\n",
       "\n",
       "    .dataframe tbody tr th {\n",
       "        vertical-align: top;\n",
       "    }\n",
       "\n",
       "    .dataframe thead th {\n",
       "        text-align: right;\n",
       "    }\n",
       "</style>\n",
       "<table border=\"1\" class=\"dataframe\">\n",
       "  <thead>\n",
       "    <tr style=\"text-align: right;\">\n",
       "      <th></th>\n",
       "      <th>RowNumber</th>\n",
       "      <th>CustomerId</th>\n",
       "      <th>CreditScore</th>\n",
       "      <th>Age</th>\n",
       "      <th>Tenure</th>\n",
       "      <th>Balance</th>\n",
       "      <th>NumOfProducts</th>\n",
       "      <th>HasCrCard</th>\n",
       "      <th>IsActiveMember</th>\n",
       "      <th>EstimatedSalary</th>\n",
       "      <th>Exited</th>\n",
       "    </tr>\n",
       "  </thead>\n",
       "  <tbody>\n",
       "    <tr>\n",
       "      <th>count</th>\n",
       "      <td>10000.00000</td>\n",
       "      <td>1.000000e+04</td>\n",
       "      <td>10000.000000</td>\n",
       "      <td>10000.000000</td>\n",
       "      <td>10000.000000</td>\n",
       "      <td>10000.000000</td>\n",
       "      <td>10000.000000</td>\n",
       "      <td>10000.00000</td>\n",
       "      <td>10000.000000</td>\n",
       "      <td>10000.000000</td>\n",
       "      <td>10000.000000</td>\n",
       "    </tr>\n",
       "    <tr>\n",
       "      <th>mean</th>\n",
       "      <td>5000.50000</td>\n",
       "      <td>1.569094e+07</td>\n",
       "      <td>650.528800</td>\n",
       "      <td>38.921800</td>\n",
       "      <td>5.012800</td>\n",
       "      <td>76485.889288</td>\n",
       "      <td>1.530200</td>\n",
       "      <td>0.70550</td>\n",
       "      <td>0.515100</td>\n",
       "      <td>100090.239881</td>\n",
       "      <td>0.203700</td>\n",
       "    </tr>\n",
       "    <tr>\n",
       "      <th>std</th>\n",
       "      <td>2886.89568</td>\n",
       "      <td>7.193619e+04</td>\n",
       "      <td>96.653299</td>\n",
       "      <td>10.487806</td>\n",
       "      <td>2.892174</td>\n",
       "      <td>62397.405202</td>\n",
       "      <td>0.581654</td>\n",
       "      <td>0.45584</td>\n",
       "      <td>0.499797</td>\n",
       "      <td>57510.492818</td>\n",
       "      <td>0.402769</td>\n",
       "    </tr>\n",
       "    <tr>\n",
       "      <th>min</th>\n",
       "      <td>1.00000</td>\n",
       "      <td>1.556570e+07</td>\n",
       "      <td>350.000000</td>\n",
       "      <td>18.000000</td>\n",
       "      <td>0.000000</td>\n",
       "      <td>0.000000</td>\n",
       "      <td>1.000000</td>\n",
       "      <td>0.00000</td>\n",
       "      <td>0.000000</td>\n",
       "      <td>11.580000</td>\n",
       "      <td>0.000000</td>\n",
       "    </tr>\n",
       "    <tr>\n",
       "      <th>25%</th>\n",
       "      <td>2500.75000</td>\n",
       "      <td>1.562853e+07</td>\n",
       "      <td>584.000000</td>\n",
       "      <td>32.000000</td>\n",
       "      <td>3.000000</td>\n",
       "      <td>0.000000</td>\n",
       "      <td>1.000000</td>\n",
       "      <td>0.00000</td>\n",
       "      <td>0.000000</td>\n",
       "      <td>51002.110000</td>\n",
       "      <td>0.000000</td>\n",
       "    </tr>\n",
       "    <tr>\n",
       "      <th>50%</th>\n",
       "      <td>5000.50000</td>\n",
       "      <td>1.569074e+07</td>\n",
       "      <td>652.000000</td>\n",
       "      <td>37.000000</td>\n",
       "      <td>5.000000</td>\n",
       "      <td>97198.540000</td>\n",
       "      <td>1.000000</td>\n",
       "      <td>1.00000</td>\n",
       "      <td>1.000000</td>\n",
       "      <td>100193.915000</td>\n",
       "      <td>0.000000</td>\n",
       "    </tr>\n",
       "    <tr>\n",
       "      <th>75%</th>\n",
       "      <td>7500.25000</td>\n",
       "      <td>1.575323e+07</td>\n",
       "      <td>718.000000</td>\n",
       "      <td>44.000000</td>\n",
       "      <td>7.000000</td>\n",
       "      <td>127644.240000</td>\n",
       "      <td>2.000000</td>\n",
       "      <td>1.00000</td>\n",
       "      <td>1.000000</td>\n",
       "      <td>149388.247500</td>\n",
       "      <td>0.000000</td>\n",
       "    </tr>\n",
       "    <tr>\n",
       "      <th>max</th>\n",
       "      <td>10000.00000</td>\n",
       "      <td>1.581569e+07</td>\n",
       "      <td>850.000000</td>\n",
       "      <td>92.000000</td>\n",
       "      <td>10.000000</td>\n",
       "      <td>250898.090000</td>\n",
       "      <td>4.000000</td>\n",
       "      <td>1.00000</td>\n",
       "      <td>1.000000</td>\n",
       "      <td>199992.480000</td>\n",
       "      <td>1.000000</td>\n",
       "    </tr>\n",
       "  </tbody>\n",
       "</table>\n",
       "</div>"
      ],
      "text/plain": [
       "         RowNumber    CustomerId  ...  EstimatedSalary        Exited\n",
       "count  10000.00000  1.000000e+04  ...     10000.000000  10000.000000\n",
       "mean    5000.50000  1.569094e+07  ...    100090.239881      0.203700\n",
       "std     2886.89568  7.193619e+04  ...     57510.492818      0.402769\n",
       "min        1.00000  1.556570e+07  ...        11.580000      0.000000\n",
       "25%     2500.75000  1.562853e+07  ...     51002.110000      0.000000\n",
       "50%     5000.50000  1.569074e+07  ...    100193.915000      0.000000\n",
       "75%     7500.25000  1.575323e+07  ...    149388.247500      0.000000\n",
       "max    10000.00000  1.581569e+07  ...    199992.480000      1.000000\n",
       "\n",
       "[8 rows x 11 columns]"
      ]
     },
     "execution_count": 10,
     "metadata": {},
     "output_type": "execute_result"
    }
   ],
   "source": [
    "data.describe()"
   ]
  },
  {
   "cell_type": "code",
   "execution_count": 11,
   "id": "f4bce199",
   "metadata": {
    "executionInfo": {
     "elapsed": 3,
     "status": "ok",
     "timestamp": 1637380507407,
     "user": {
      "displayName": "Stephen Catalfio",
      "photoUrl": "https://lh3.googleusercontent.com/a/default-user=s64",
      "userId": "01995132954552918474"
     },
     "user_tz": 420
    },
    "id": "f4bce199"
   },
   "outputs": [],
   "source": [
    "# dropping RowNumber\n",
    "\n",
    "data.drop([\"RowNumber\"], axis=1, inplace=True)"
   ]
  },
  {
   "cell_type": "code",
   "execution_count": 12,
   "id": "bfb373c8",
   "metadata": {
    "executionInfo": {
     "elapsed": 143,
     "status": "ok",
     "timestamp": 1637380507547,
     "user": {
      "displayName": "Stephen Catalfio",
      "photoUrl": "https://lh3.googleusercontent.com/a/default-user=s64",
      "userId": "01995132954552918474"
     },
     "user_tz": 420
    },
    "id": "bfb373c8"
   },
   "outputs": [],
   "source": [
    "# dropping CustomerId\n",
    "\n",
    "data.drop([\"CustomerId\"], axis=1, inplace=True)"
   ]
  },
  {
   "cell_type": "code",
   "execution_count": 13,
   "id": "8777bcab",
   "metadata": {
    "executionInfo": {
     "elapsed": 9,
     "status": "ok",
     "timestamp": 1637380507547,
     "user": {
      "displayName": "Stephen Catalfio",
      "photoUrl": "https://lh3.googleusercontent.com/a/default-user=s64",
      "userId": "01995132954552918474"
     },
     "user_tz": 420
    },
    "id": "8777bcab"
   },
   "outputs": [],
   "source": [
    "# dropping Surname\n",
    "\n",
    "data.drop([\"Surname\"], axis=1, inplace=True)"
   ]
  },
  {
   "cell_type": "code",
   "execution_count": 14,
   "id": "9ef6057b",
   "metadata": {
    "colab": {
     "base_uri": "https://localhost:8080/"
    },
    "executionInfo": {
     "elapsed": 8,
     "status": "ok",
     "timestamp": 1637380507547,
     "user": {
      "displayName": "Stephen Catalfio",
      "photoUrl": "https://lh3.googleusercontent.com/a/default-user=s64",
      "userId": "01995132954552918474"
     },
     "user_tz": 420
    },
    "id": "9ef6057b",
    "outputId": "c65a33bb-e0fc-450b-d4f1-c7ff9a6974e4"
   },
   "outputs": [
    {
     "data": {
      "text/plain": [
       "(10000, 11)"
      ]
     },
     "execution_count": 14,
     "metadata": {},
     "output_type": "execute_result"
    }
   ],
   "source": [
    "data.shape"
   ]
  },
  {
   "cell_type": "code",
   "execution_count": 15,
   "id": "uqHIbRXTSQ8H",
   "metadata": {
    "colab": {
     "base_uri": "https://localhost:8080/"
    },
    "executionInfo": {
     "elapsed": 7,
     "status": "ok",
     "timestamp": 1637380507547,
     "user": {
      "displayName": "Stephen Catalfio",
      "photoUrl": "https://lh3.googleusercontent.com/a/default-user=s64",
      "userId": "01995132954552918474"
     },
     "user_tz": 420
    },
    "id": "uqHIbRXTSQ8H",
    "outputId": "f91ad5ef-a094-4d72-9981-94eda56f63da"
   },
   "outputs": [
    {
     "data": {
      "text/plain": [
       "CreditScore        0\n",
       "Geography          0\n",
       "Gender             0\n",
       "Age                0\n",
       "Tenure             0\n",
       "Balance            0\n",
       "NumOfProducts      0\n",
       "HasCrCard          0\n",
       "IsActiveMember     0\n",
       "EstimatedSalary    0\n",
       "Exited             0\n",
       "dtype: int64"
      ]
     },
     "execution_count": 15,
     "metadata": {},
     "output_type": "execute_result"
    }
   ],
   "source": [
    "data[data.duplicated()].count()"
   ]
  },
  {
   "cell_type": "code",
   "execution_count": 16,
   "id": "99975b2d",
   "metadata": {
    "colab": {
     "base_uri": "https://localhost:8080/",
     "height": 439
    },
    "executionInfo": {
     "elapsed": 165,
     "status": "ok",
     "timestamp": 1637380507709,
     "user": {
      "displayName": "Stephen Catalfio",
      "photoUrl": "https://lh3.googleusercontent.com/a/default-user=s64",
      "userId": "01995132954552918474"
     },
     "user_tz": 420
    },
    "id": "99975b2d",
    "outputId": "55e7c414-8454-4b42-8fbc-a78d32535c24"
   },
   "outputs": [
    {
     "data": {
      "text/html": [
       "<div>\n",
       "<style scoped>\n",
       "    .dataframe tbody tr th:only-of-type {\n",
       "        vertical-align: middle;\n",
       "    }\n",
       "\n",
       "    .dataframe tbody tr th {\n",
       "        vertical-align: top;\n",
       "    }\n",
       "\n",
       "    .dataframe thead th {\n",
       "        text-align: right;\n",
       "    }\n",
       "</style>\n",
       "<table border=\"1\" class=\"dataframe\">\n",
       "  <thead>\n",
       "    <tr style=\"text-align: right;\">\n",
       "      <th></th>\n",
       "      <th>CreditScore</th>\n",
       "      <th>Age</th>\n",
       "      <th>Tenure</th>\n",
       "      <th>Balance</th>\n",
       "      <th>NumOfProducts</th>\n",
       "      <th>HasCrCard</th>\n",
       "      <th>IsActiveMember</th>\n",
       "      <th>EstimatedSalary</th>\n",
       "      <th>Exited</th>\n",
       "      <th>Geography_Germany</th>\n",
       "      <th>Geography_Spain</th>\n",
       "      <th>Gender_Male</th>\n",
       "    </tr>\n",
       "  </thead>\n",
       "  <tbody>\n",
       "    <tr>\n",
       "      <th>0</th>\n",
       "      <td>619.0</td>\n",
       "      <td>42.0</td>\n",
       "      <td>2.0</td>\n",
       "      <td>0.000000</td>\n",
       "      <td>1.0</td>\n",
       "      <td>1.0</td>\n",
       "      <td>1.0</td>\n",
       "      <td>101348.882812</td>\n",
       "      <td>1.0</td>\n",
       "      <td>0.0</td>\n",
       "      <td>0.0</td>\n",
       "      <td>0.0</td>\n",
       "    </tr>\n",
       "    <tr>\n",
       "      <th>1</th>\n",
       "      <td>608.0</td>\n",
       "      <td>41.0</td>\n",
       "      <td>1.0</td>\n",
       "      <td>83807.859375</td>\n",
       "      <td>1.0</td>\n",
       "      <td>0.0</td>\n",
       "      <td>1.0</td>\n",
       "      <td>112542.578125</td>\n",
       "      <td>0.0</td>\n",
       "      <td>0.0</td>\n",
       "      <td>1.0</td>\n",
       "      <td>0.0</td>\n",
       "    </tr>\n",
       "    <tr>\n",
       "      <th>2</th>\n",
       "      <td>502.0</td>\n",
       "      <td>42.0</td>\n",
       "      <td>8.0</td>\n",
       "      <td>159660.796875</td>\n",
       "      <td>3.0</td>\n",
       "      <td>1.0</td>\n",
       "      <td>0.0</td>\n",
       "      <td>113931.570312</td>\n",
       "      <td>1.0</td>\n",
       "      <td>0.0</td>\n",
       "      <td>0.0</td>\n",
       "      <td>0.0</td>\n",
       "    </tr>\n",
       "    <tr>\n",
       "      <th>3</th>\n",
       "      <td>699.0</td>\n",
       "      <td>39.0</td>\n",
       "      <td>1.0</td>\n",
       "      <td>0.000000</td>\n",
       "      <td>2.0</td>\n",
       "      <td>0.0</td>\n",
       "      <td>0.0</td>\n",
       "      <td>93826.632812</td>\n",
       "      <td>0.0</td>\n",
       "      <td>0.0</td>\n",
       "      <td>0.0</td>\n",
       "      <td>0.0</td>\n",
       "    </tr>\n",
       "    <tr>\n",
       "      <th>4</th>\n",
       "      <td>850.0</td>\n",
       "      <td>43.0</td>\n",
       "      <td>2.0</td>\n",
       "      <td>125510.820312</td>\n",
       "      <td>1.0</td>\n",
       "      <td>1.0</td>\n",
       "      <td>1.0</td>\n",
       "      <td>79084.101562</td>\n",
       "      <td>0.0</td>\n",
       "      <td>0.0</td>\n",
       "      <td>1.0</td>\n",
       "      <td>0.0</td>\n",
       "    </tr>\n",
       "    <tr>\n",
       "      <th>...</th>\n",
       "      <td>...</td>\n",
       "      <td>...</td>\n",
       "      <td>...</td>\n",
       "      <td>...</td>\n",
       "      <td>...</td>\n",
       "      <td>...</td>\n",
       "      <td>...</td>\n",
       "      <td>...</td>\n",
       "      <td>...</td>\n",
       "      <td>...</td>\n",
       "      <td>...</td>\n",
       "      <td>...</td>\n",
       "    </tr>\n",
       "    <tr>\n",
       "      <th>9995</th>\n",
       "      <td>771.0</td>\n",
       "      <td>39.0</td>\n",
       "      <td>5.0</td>\n",
       "      <td>0.000000</td>\n",
       "      <td>2.0</td>\n",
       "      <td>1.0</td>\n",
       "      <td>0.0</td>\n",
       "      <td>96270.640625</td>\n",
       "      <td>0.0</td>\n",
       "      <td>0.0</td>\n",
       "      <td>0.0</td>\n",
       "      <td>1.0</td>\n",
       "    </tr>\n",
       "    <tr>\n",
       "      <th>9996</th>\n",
       "      <td>516.0</td>\n",
       "      <td>35.0</td>\n",
       "      <td>10.0</td>\n",
       "      <td>57369.609375</td>\n",
       "      <td>1.0</td>\n",
       "      <td>1.0</td>\n",
       "      <td>1.0</td>\n",
       "      <td>101699.773438</td>\n",
       "      <td>0.0</td>\n",
       "      <td>0.0</td>\n",
       "      <td>0.0</td>\n",
       "      <td>1.0</td>\n",
       "    </tr>\n",
       "    <tr>\n",
       "      <th>9997</th>\n",
       "      <td>709.0</td>\n",
       "      <td>36.0</td>\n",
       "      <td>7.0</td>\n",
       "      <td>0.000000</td>\n",
       "      <td>1.0</td>\n",
       "      <td>0.0</td>\n",
       "      <td>1.0</td>\n",
       "      <td>42085.578125</td>\n",
       "      <td>1.0</td>\n",
       "      <td>0.0</td>\n",
       "      <td>0.0</td>\n",
       "      <td>0.0</td>\n",
       "    </tr>\n",
       "    <tr>\n",
       "      <th>9998</th>\n",
       "      <td>772.0</td>\n",
       "      <td>42.0</td>\n",
       "      <td>3.0</td>\n",
       "      <td>75075.312500</td>\n",
       "      <td>2.0</td>\n",
       "      <td>1.0</td>\n",
       "      <td>0.0</td>\n",
       "      <td>92888.523438</td>\n",
       "      <td>1.0</td>\n",
       "      <td>1.0</td>\n",
       "      <td>0.0</td>\n",
       "      <td>1.0</td>\n",
       "    </tr>\n",
       "    <tr>\n",
       "      <th>9999</th>\n",
       "      <td>792.0</td>\n",
       "      <td>28.0</td>\n",
       "      <td>4.0</td>\n",
       "      <td>130142.789062</td>\n",
       "      <td>1.0</td>\n",
       "      <td>1.0</td>\n",
       "      <td>0.0</td>\n",
       "      <td>38190.781250</td>\n",
       "      <td>0.0</td>\n",
       "      <td>0.0</td>\n",
       "      <td>0.0</td>\n",
       "      <td>0.0</td>\n",
       "    </tr>\n",
       "  </tbody>\n",
       "</table>\n",
       "<p>10000 rows × 12 columns</p>\n",
       "</div>"
      ],
      "text/plain": [
       "      CreditScore   Age  ...  Geography_Spain  Gender_Male\n",
       "0           619.0  42.0  ...              0.0          0.0\n",
       "1           608.0  41.0  ...              1.0          0.0\n",
       "2           502.0  42.0  ...              0.0          0.0\n",
       "3           699.0  39.0  ...              0.0          0.0\n",
       "4           850.0  43.0  ...              1.0          0.0\n",
       "...           ...   ...  ...              ...          ...\n",
       "9995        771.0  39.0  ...              0.0          1.0\n",
       "9996        516.0  35.0  ...              0.0          1.0\n",
       "9997        709.0  36.0  ...              0.0          0.0\n",
       "9998        772.0  42.0  ...              0.0          1.0\n",
       "9999        792.0  28.0  ...              0.0          0.0\n",
       "\n",
       "[10000 rows x 12 columns]"
      ]
     },
     "execution_count": 16,
     "metadata": {},
     "output_type": "execute_result"
    }
   ],
   "source": [
    "#creating dummy variables for the categorical features\n",
    "df1 = data\n",
    "df1 = pd.get_dummies(df1,drop_first=True)\n",
    "df1 = df1.astype('float32') # we will need to convert the dataset to float in order to be able to convert it into tensors later.\n",
    "df1"
   ]
  },
  {
   "cell_type": "code",
   "execution_count": 17,
   "id": "b6af59b4",
   "metadata": {
    "colab": {
     "base_uri": "https://localhost:8080/"
    },
    "executionInfo": {
     "elapsed": 20,
     "status": "ok",
     "timestamp": 1637380507709,
     "user": {
      "displayName": "Stephen Catalfio",
      "photoUrl": "https://lh3.googleusercontent.com/a/default-user=s64",
      "userId": "01995132954552918474"
     },
     "user_tz": 420
    },
    "id": "b6af59b4",
    "outputId": "e02ffbc9-a55e-4511-a474-d4db6f355374"
   },
   "outputs": [
    {
     "data": {
      "text/plain": [
       "Index(['CreditScore', 'Age', 'Tenure', 'Balance', 'NumOfProducts', 'HasCrCard',\n",
       "       'IsActiveMember', 'EstimatedSalary', 'Exited', 'Geography_Germany',\n",
       "       'Geography_Spain', 'Gender_Male'],\n",
       "      dtype='object')"
      ]
     },
     "execution_count": 17,
     "metadata": {},
     "output_type": "execute_result"
    }
   ],
   "source": [
    "df1.columns"
   ]
  },
  {
   "cell_type": "code",
   "execution_count": 18,
   "id": "064cf3e1",
   "metadata": {
    "colab": {
     "base_uri": "https://localhost:8080/"
    },
    "executionInfo": {
     "elapsed": 17,
     "status": "ok",
     "timestamp": 1637380507709,
     "user": {
      "displayName": "Stephen Catalfio",
      "photoUrl": "https://lh3.googleusercontent.com/a/default-user=s64",
      "userId": "01995132954552918474"
     },
     "user_tz": 420
    },
    "id": "064cf3e1",
    "outputId": "18c85fbc-8d1e-4e61-c74d-34bdd24cd6d8"
   },
   "outputs": [
    {
     "name": "stdout",
     "output_type": "stream",
     "text": [
      "<class 'pandas.core.frame.DataFrame'>\n",
      "RangeIndex: 10000 entries, 0 to 9999\n",
      "Data columns (total 12 columns):\n",
      " #   Column             Non-Null Count  Dtype  \n",
      "---  ------             --------------  -----  \n",
      " 0   CreditScore        10000 non-null  float32\n",
      " 1   Age                10000 non-null  float32\n",
      " 2   Tenure             10000 non-null  float32\n",
      " 3   Balance            10000 non-null  float32\n",
      " 4   NumOfProducts      10000 non-null  float32\n",
      " 5   HasCrCard          10000 non-null  float32\n",
      " 6   IsActiveMember     10000 non-null  float32\n",
      " 7   EstimatedSalary    10000 non-null  float32\n",
      " 8   Exited             10000 non-null  float32\n",
      " 9   Geography_Germany  10000 non-null  float32\n",
      " 10  Geography_Spain    10000 non-null  float32\n",
      " 11  Gender_Male        10000 non-null  float32\n",
      "dtypes: float32(12)\n",
      "memory usage: 468.9 KB\n"
     ]
    }
   ],
   "source": [
    "df1.info()"
   ]
  },
  {
   "cell_type": "markdown",
   "id": "YpRJt5zwaUjs",
   "metadata": {
    "id": "YpRJt5zwaUjs"
   },
   "source": [
    "**Analysis**"
   ]
  },
  {
   "cell_type": "markdown",
   "id": "Pm47GQKpWDUG",
   "metadata": {
    "id": "Pm47GQKpWDUG"
   },
   "source": [
    "\n",
    "\n",
    "*   There are 10,000 rows and 14 columns in the dataset.\n",
    "*   The dataset has interger, object and float data types.\n",
    "*   No missing values found within dataset.\n",
    "*   No duplicate data found within dataset.\n",
    "*   Age, Tenure, and Estimate Salary are even distributed.  The mean and median are similar values.\n",
    "*   Balance is left skewed.  Most likely because of 0 balance outliers.\n",
    "*   We will not drop any outliers due to the outliers indicating the prediction we are trying to conclude.\n",
    "*   Dropping the columns \"RowNumber\" and \"CustomerID\" as pandas indexing is appropriate.  These columns add no value to our model.\n",
    "*   Dropping the column, \"surname\" as it knowing the customer's surname doesnt add any value to our model.\n",
    "\n"
   ]
  },
  {
   "cell_type": "markdown",
   "id": "O__QhR1zUX4z",
   "metadata": {
    "id": "O__QhR1zUX4z"
   },
   "source": [
    "### **Perform an Exploratory Data Analysis on the data**"
   ]
  },
  {
   "cell_type": "code",
   "execution_count": 19,
   "id": "UC5fCUjtb730",
   "metadata": {
    "colab": {
     "base_uri": "https://localhost:8080/"
    },
    "executionInfo": {
     "elapsed": 13,
     "status": "ok",
     "timestamp": 1637380507709,
     "user": {
      "displayName": "Stephen Catalfio",
      "photoUrl": "https://lh3.googleusercontent.com/a/default-user=s64",
      "userId": "01995132954552918474"
     },
     "user_tz": 420
    },
    "id": "UC5fCUjtb730",
    "outputId": "1c0b3019-c037-4627-98ea-de38802f3b09"
   },
   "outputs": [
    {
     "name": "stdout",
     "output_type": "stream",
     "text": [
      "0.2037000060081482\n",
      "0.0\n"
     ]
    }
   ],
   "source": [
    "print(df1.Exited.mean())\n",
    "print(df1.Exited.median())"
   ]
  },
  {
   "cell_type": "code",
   "execution_count": 20,
   "id": "17fad972",
   "metadata": {
    "colab": {
     "base_uri": "https://localhost:8080/"
    },
    "executionInfo": {
     "elapsed": 9,
     "status": "ok",
     "timestamp": 1637380507709,
     "user": {
      "displayName": "Stephen Catalfio",
      "photoUrl": "https://lh3.googleusercontent.com/a/default-user=s64",
      "userId": "01995132954552918474"
     },
     "user_tz": 420
    },
    "id": "17fad972",
    "outputId": "f83f1824-45b3-4585-f248-8d14ef724dc4"
   },
   "outputs": [
    {
     "data": {
      "text/plain": [
       "2"
      ]
     },
     "execution_count": 20,
     "metadata": {},
     "output_type": "execute_result"
    }
   ],
   "source": [
    "#Number of distinct categories or classes i.e., left bank or not\n",
    "df1['Exited'].nunique()"
   ]
  },
  {
   "cell_type": "markdown",
   "id": "W4fdeVj4HmWM",
   "metadata": {
    "id": "W4fdeVj4HmWM"
   },
   "source": [
    "Checking whether data is balanced"
   ]
  },
  {
   "cell_type": "code",
   "execution_count": 21,
   "id": "a1029510",
   "metadata": {
    "colab": {
     "base_uri": "https://localhost:8080/"
    },
    "executionInfo": {
     "elapsed": 5,
     "status": "ok",
     "timestamp": 1637380507709,
     "user": {
      "displayName": "Stephen Catalfio",
      "photoUrl": "https://lh3.googleusercontent.com/a/default-user=s64",
      "userId": "01995132954552918474"
     },
     "user_tz": 420
    },
    "id": "a1029510",
    "outputId": "1a43beac-59e4-4c4a-8b43-e121c42fa796"
   },
   "outputs": [
    {
     "data": {
      "text/plain": [
       "0.0    0.7963\n",
       "1.0    0.2037\n",
       "Name: Exited, dtype: float64"
      ]
     },
     "execution_count": 21,
     "metadata": {},
     "output_type": "execute_result"
    }
   ],
   "source": [
    "#checking the percentage of each class in the dataset\n",
    "(df1.Exited.value_counts())/(df1.Exited.count())"
   ]
  },
  {
   "cell_type": "code",
   "execution_count": 22,
   "id": "f2775d66",
   "metadata": {
    "colab": {
     "base_uri": "https://localhost:8080/",
     "height": 288
    },
    "executionInfo": {
     "elapsed": 276,
     "status": "ok",
     "timestamp": 1637380508114,
     "user": {
      "displayName": "Stephen Catalfio",
      "photoUrl": "https://lh3.googleusercontent.com/a/default-user=s64",
      "userId": "01995132954552918474"
     },
     "user_tz": 420
    },
    "id": "f2775d66",
    "outputId": "723a031a-adb5-4fa4-acda-27a0c4d0fc4b"
   },
   "outputs": [
    {
     "data": {
      "text/plain": [
       "<matplotlib.axes._subplots.AxesSubplot at 0x7fe298bbb350>"
      ]
     },
     "execution_count": 22,
     "metadata": {},
     "output_type": "execute_result"
    },
    {
     "data": {
      "image/png": "[encoded data removed]",
      "text/plain": [
       "<Figure size 432x288 with 1 Axes>"
      ]
     },
     "metadata": {
      "needs_background": "light"
     },
     "output_type": "display_data"
    }
   ],
   "source": [
    "#visual representation of instances per class\n",
    "%matplotlib inline\n",
    "df1.Exited.value_counts().plot.bar()"
   ]
  },
  {
   "cell_type": "markdown",
   "id": "O6y3QzaBHrFB",
   "metadata": {
    "id": "O6y3QzaBHrFB"
   },
   "source": [
    "\n",
    "\n",
    "*   80% of customers did not leave bank within 6 months.\n",
    "*   20% of customers left bank within 6 months.\n",
    "\n"
   ]
  },
  {
   "cell_type": "markdown",
   "id": "EL4LPxgVIFtd",
   "metadata": {
    "id": "EL4LPxgVIFtd"
   },
   "source": [
    "Bivariate Analysis"
   ]
  },
  {
   "cell_type": "code",
   "execution_count": 23,
   "id": "e6382f9f",
   "metadata": {
    "colab": {
     "base_uri": "https://localhost:8080/",
     "height": 891,
     "output_embedded_package_id": "14bNqPRLken-J7aPVJOoBrowUmg59gY6X"
    },
    "executionInfo": {
     "elapsed": 147018,
     "status": "ok",
     "timestamp": 1637380655131,
     "user": {
      "displayName": "Stephen Catalfio",
      "photoUrl": "https://lh3.googleusercontent.com/a/default-user=s64",
      "userId": "01995132954552918474"
     },
     "user_tz": 420
    },
    "id": "e6382f9f",
    "outputId": "eb54b0f7-2795-43f8-b7fe-2d072b823940"
   },
   "outputs": [
    {
     "data": {
      "text/plain": [
       "Output hidden; open in https://colab.research.google.com to view."
      ]
     },
     "metadata": {},
     "output_type": "display_data"
    }
   ],
   "source": [
    "sns.pairplot(df1,hue = 'Exited',diag_kind = \"kde\",kind = \"scatter\",palette = \"husl\",height=3.5)\n",
    "plt.show()"
   ]
  },
  {
   "cell_type": "code",
   "execution_count": 24,
   "id": "356a0d9c",
   "metadata": {
    "colab": {
     "base_uri": "https://localhost:8080/",
     "height": 969
    },
    "executionInfo": {
     "elapsed": 378,
     "status": "ok",
     "timestamp": 1637380655507,
     "user": {
      "displayName": "Stephen Catalfio",
      "photoUrl": "https://lh3.googleusercontent.com/a/default-user=s64",
      "userId": "01995132954552918474"
     },
     "user_tz": 420
    },
    "id": "356a0d9c",
    "outputId": "027631cd-ae52-460d-b5ac-77d2a4a14661"
   },
   "outputs": [
    {
     "data": {
      "text/plain": [
       "<matplotlib.axes._subplots.AxesSubplot at 0x7fe28af42650>"
      ]
     },
     "execution_count": 24,
     "metadata": {},
     "output_type": "execute_result"
    },
    {
     "data": {
      "image/png": "[encoded data removed]",
      "text/plain": [
       "<Figure size 1080x1080 with 2 Axes>"
      ]
     },
     "metadata": {
      "needs_background": "light"
     },
     "output_type": "display_data"
    }
   ],
   "source": [
    "fig, ax = plt.subplots(figsize=(15,15))\n",
    "sns.heatmap(df1.corr(),cmap=\"Spectral\",ax=ax,annot=True)"
   ]
  },
  {
   "cell_type": "markdown",
   "id": "g1UqRvbrIPr3",
   "metadata": {
    "id": "g1UqRvbrIPr3"
   },
   "source": [
    "### **Illustrate the insights based on EDA**"
   ]
  },
  {
   "cell_type": "markdown",
   "id": "lcILUJzaIrEG",
   "metadata": {
    "id": "lcILUJzaIrEG"
   },
   "source": [
    "\n",
    "*   Customers who stay with the bank past 6 months have larger balances by a considerable amount than customers who leave bank prior to 6 months.\n",
    "*   Customers who have a better credit score tend to stick with the bank much more often than customers with not so great credit scores.\n",
    "*   The target variable \"Exited\" has a positive correlation with the following features:  Age, Balance, Salary and Geography_Germany.  These columns will have a positive impact on if the cusotomer continues with bank past 6 months.\n",
    "*   The target variable \"Exited has a negative relationship with the following features:  CreditScore, Tenure, NumOfProducst, HasCrCard, IsActiveMember, EstimatedSalary, Geography_Spain, Gender_Male.\n",
    "*   The strongest positive correlations between features is Balance and Geography_Germany followed by Exited and Age.  However, these correlations are both closer to 0 than to 1.\n",
    "*   The strongest negative correlations between features is Geography_Germany and Geography_Spain followed by NumOfProducts and Balance. However, I would not consider these correaltion strong being .33 and .3 repectively.\n",
    "\n"
   ]
  },
  {
   "cell_type": "markdown",
   "id": "3hnq-Q_4Ur2F",
   "metadata": {
    "id": "3hnq-Q_4Ur2F"
   },
   "source": [
    "### **Data Pre-processing**"
   ]
  },
  {
   "cell_type": "code",
   "execution_count": 25,
   "id": "bcad645d",
   "metadata": {
    "executionInfo": {
     "elapsed": 15,
     "status": "ok",
     "timestamp": 1637380655823,
     "user": {
      "displayName": "Stephen Catalfio",
      "photoUrl": "https://lh3.googleusercontent.com/a/default-user=s64",
      "userId": "01995132954552918474"
     },
     "user_tz": 420
    },
    "id": "bcad645d"
   },
   "outputs": [],
   "source": [
    "#getting the features and labels and finally splitting the test and train data.\n",
    "\n",
    "X = df1[['CreditScore','Age', 'Tenure', 'Balance',\n",
    "     'NumOfProducts', 'HasCrCard', 'IsActiveMember', 'EstimatedSalary',\n",
    "       'Geography_Germany', 'Geography_Spain', 'Gender_Male',\n",
    "       ]]\n",
    "Y = df1['Exited']"
   ]
  },
  {
   "cell_type": "markdown",
   "id": "PT0nKC5zccpW",
   "metadata": {
    "id": "PT0nKC5zccpW"
   },
   "source": [
    "\n",
    "\n",
    "*   Seperating the features from labels\n",
    "\n",
    "\n"
   ]
  },
  {
   "cell_type": "code",
   "execution_count": 26,
   "id": "OoTN9U44Ru05",
   "metadata": {
    "executionInfo": {
     "elapsed": 13,
     "status": "ok",
     "timestamp": 1637380655823,
     "user": {
      "displayName": "Stephen Catalfio",
      "photoUrl": "https://lh3.googleusercontent.com/a/default-user=s64",
      "userId": "01995132954552918474"
     },
     "user_tz": 420
    },
    "id": "OoTN9U44Ru05"
   },
   "outputs": [],
   "source": [
    "X_data = df1.iloc[:,0:29]\n",
    "y_data = df1.iloc[:, -1]"
   ]
  },
  {
   "cell_type": "code",
   "execution_count": 27,
   "id": "Gd-pBTAYRv61",
   "metadata": {
    "colab": {
     "base_uri": "https://localhost:8080/"
    },
    "executionInfo": {
     "elapsed": 13,
     "status": "ok",
     "timestamp": 1637380655824,
     "user": {
      "displayName": "Stephen Catalfio",
      "photoUrl": "https://lh3.googleusercontent.com/a/default-user=s64",
      "userId": "01995132954552918474"
     },
     "user_tz": 420
    },
    "id": "Gd-pBTAYRv61",
    "outputId": "47131f00-5a88-43a1-d510-43ecf978cc52"
   },
   "outputs": [
    {
     "name": "stdout",
     "output_type": "stream",
     "text": [
      "(10000,)\n",
      "(10000, 12)\n"
     ]
    }
   ],
   "source": [
    "#printing the shape of the data \n",
    "print(y_data.shape)\n",
    "print(X_data.shape)"
   ]
  },
  {
   "cell_type": "markdown",
   "id": "ErQhOUyLdnNH",
   "metadata": {
    "id": "ErQhOUyLdnNH"
   },
   "source": [
    "\n",
    "\n",
    "*   10,000 rows and 12 columns.\n",
    "\n"
   ]
  },
  {
   "cell_type": "code",
   "execution_count": 28,
   "id": "35c18c68",
   "metadata": {
    "executionInfo": {
     "elapsed": 11,
     "status": "ok",
     "timestamp": 1637380655824,
     "user": {
      "displayName": "Stephen Catalfio",
      "photoUrl": "https://lh3.googleusercontent.com/a/default-user=s64",
      "userId": "01995132954552918474"
     },
     "user_tz": 420
    },
    "id": "35c18c68"
   },
   "outputs": [],
   "source": [
    "#Splitting the training and test set\n",
    "X_train, X_test, y_train, y_test = train_test_split(X, Y, test_size=0.20, random_state=1)\n",
    "#Splitting the train set into  dev set and training set\n",
    "X_train, X_val, y_train, y_val = train_test_split(X_train, y_train, test_size=0.20, random_state=1)"
   ]
  },
  {
   "cell_type": "markdown",
   "id": "Ks-WmRLScqm1",
   "metadata": {
    "id": "Ks-WmRLScqm1"
   },
   "source": [
    "\n",
    "\n",
    "*   Splitting the Dataset.\n",
    "\n"
   ]
  },
  {
   "cell_type": "code",
   "execution_count": 29,
   "id": "8fbcad15",
   "metadata": {
    "executionInfo": {
     "elapsed": 11,
     "status": "ok",
     "timestamp": 1637380655824,
     "user": {
      "displayName": "Stephen Catalfio",
      "photoUrl": "https://lh3.googleusercontent.com/a/default-user=s64",
      "userId": "01995132954552918474"
     },
     "user_tz": 420
    },
    "id": "8fbcad15"
   },
   "outputs": [],
   "source": [
    "scaler = preprocessing.MinMaxScaler()\n",
    "# MinMaxScalar has been used here. You can go ahead and use the other scalars available and chcek the effect on the results.\n",
    "#fitting the transform on test and train separately\n",
    "X_train = scaler.fit_transform(X_train)\n",
    "X_test = scaler.fit_transform(X_test)\n",
    "X_val = scaler.fit_transform(X_val)\n",
    "\n",
    "# create target scaler object\n",
    "\n",
    "target_scaler = preprocessing.MinMaxScaler()\n",
    "y_train = target_scaler.fit_transform(y_train.values.reshape(-1,1))\n",
    "y_test = target_scaler.fit_transform(y_test.values.reshape(-1,1))\n",
    "y_val=target_scaler.fit_transform(y_val.values.reshape(-1,1))"
   ]
  },
  {
   "cell_type": "markdown",
   "id": "RVm6lwgscx9K",
   "metadata": {
    "id": "RVm6lwgscx9K"
   },
   "source": [
    "\n",
    "\n",
    "*   Normalizing the train and test set data separately.\n",
    "\n"
   ]
  },
  {
   "cell_type": "code",
   "execution_count": 30,
   "id": "89613534",
   "metadata": {
    "colab": {
     "base_uri": "https://localhost:8080/"
    },
    "executionInfo": {
     "elapsed": 11,
     "status": "ok",
     "timestamp": 1637380655825,
     "user": {
      "displayName": "Stephen Catalfio",
      "photoUrl": "https://lh3.googleusercontent.com/a/default-user=s64",
      "userId": "01995132954552918474"
     },
     "user_tz": 420
    },
    "id": "89613534",
    "outputId": "7cee7819-182d-4152-8ca4-fa7c66401b6f"
   },
   "outputs": [
    {
     "data": {
      "text/plain": [
       "array([[1.        , 0.12162164, 0.6       , ..., 0.        , 0.        ,\n",
       "        1.        ],\n",
       "       [0.564     , 0.43243244, 0.5       , ..., 1.        , 0.        ,\n",
       "        0.        ],\n",
       "       [0.17799997, 0.24324325, 0.2       , ..., 0.        , 0.        ,\n",
       "        1.        ],\n",
       "       ...,\n",
       "       [0.15600002, 0.5945946 , 0.1       , ..., 0.        , 0.        ,\n",
       "        0.        ],\n",
       "       [0.658     , 0.13513514, 0.90000004, ..., 0.        , 1.        ,\n",
       "        0.        ],\n",
       "       [0.65400004, 0.27027026, 0.4       , ..., 0.        , 0.        ,\n",
       "        1.        ]], dtype=float32)"
      ]
     },
     "execution_count": 30,
     "metadata": {},
     "output_type": "execute_result"
    }
   ],
   "source": [
    "#Printing the data after normalization\n",
    "X_val"
   ]
  },
  {
   "cell_type": "markdown",
   "id": "G8ljrT_6dBrP",
   "metadata": {
    "id": "G8ljrT_6dBrP"
   },
   "source": [
    "\n",
    "\n",
    "*   New values after normalization.  Notice the data is now scaled from (-1, 1).\n",
    "\n"
   ]
  },
  {
   "cell_type": "code",
   "execution_count": 31,
   "id": "51669ffc",
   "metadata": {
    "executionInfo": {
     "elapsed": 5,
     "status": "ok",
     "timestamp": 1637380656138,
     "user": {
      "displayName": "Stephen Catalfio",
      "photoUrl": "https://lh3.googleusercontent.com/a/default-user=s64",
      "userId": "01995132954552918474"
     },
     "user_tz": 420
    },
    "id": "51669ffc"
   },
   "outputs": [],
   "source": [
    "# let us now convert the data elements into tensors as we need tensors to be fed into different tensorflow based operations\n",
    "#X-train and X_test were converted to numpy arrays while transformations while the other two need to be transformed into numpy arrays.\n",
    "X_train1=tf.convert_to_tensor(X_train)\n",
    "y_train1=tf.convert_to_tensor(y_train)\n",
    "X_test1=tf.convert_to_tensor(X_test)\n",
    "y_test1=tf.convert_to_tensor(y_test)\n",
    "X_val1=tf.convert_to_tensor(X_val)\n",
    "y_val1=tf.convert_to_tensor(y_val)"
   ]
  },
  {
   "cell_type": "markdown",
   "id": "K-VcGov4dYrC",
   "metadata": {
    "id": "K-VcGov4dYrC"
   },
   "source": [
    "\n",
    "\n",
    "*   Converting the numpy array into tensors.\n",
    "\n"
   ]
  },
  {
   "cell_type": "code",
   "execution_count": 32,
   "id": "0e1562fb",
   "metadata": {
    "colab": {
     "base_uri": "https://localhost:8080/"
    },
    "executionInfo": {
     "elapsed": 5,
     "status": "ok",
     "timestamp": 1637380656139,
     "user": {
      "displayName": "Stephen Catalfio",
      "photoUrl": "https://lh3.googleusercontent.com/a/default-user=s64",
      "userId": "01995132954552918474"
     },
     "user_tz": 420
    },
    "id": "0e1562fb",
    "outputId": "907aaa54-4384-4acd-c4ee-6e5766be1ddc"
   },
   "outputs": [
    {
     "data": {
      "text/plain": [
       "11"
      ]
     },
     "execution_count": 32,
     "metadata": {},
     "output_type": "execute_result"
    }
   ],
   "source": [
    "#printing the shape of training tensor\n",
    "X_train1.shape[1]"
   ]
  },
  {
   "cell_type": "markdown",
   "id": "A46K4AnCU7rJ",
   "metadata": {
    "id": "A46K4AnCU7rJ"
   },
   "source": [
    "**Model building**"
   ]
  },
  {
   "cell_type": "code",
   "execution_count": 33,
   "id": "260bd24d",
   "metadata": {
    "executionInfo": {
     "elapsed": 4,
     "status": "ok",
     "timestamp": 1637380656139,
     "user": {
      "displayName": "Stephen Catalfio",
      "photoUrl": "https://lh3.googleusercontent.com/a/default-user=s64",
      "userId": "01995132954552918474"
     },
     "user_tz": 420
    },
    "id": "260bd24d"
   },
   "outputs": [],
   "source": [
    "input_dim = X_train1.shape[1]\n",
    "output_dim = 1\n",
    "learning_rate = 0.01\n",
    "\n",
    "# Let us initialize the weights and bias variables. \n",
    "weights = tf.Variable(tf.zeros(shape=(input_dim, output_dim), dtype= tf.float32))\n",
    "bias = tf.Variable(tf.ones(shape=(output_dim,), dtype= tf.float32))\n",
    "\n",
    "def predict(features):\n",
    "  return tf.matmul(features, weights) + bias # note that the matmul is matrix multiplication and is needed for calculating predictions\n",
    "\n",
    "def compute_loss(y_true, predictions):\n",
    "  return tf.reduce_mean(tf.square(y_true - predictions)) # mean square error\n",
    "\n",
    "# Let us now define a function to train the model. We will call the other functions in function definition.\n",
    "def train(x, y,x1,y1):\n",
    "  with tf.GradientTape() as tape:\n",
    "    predictions = predict(x)\n",
    "    loss = compute_loss(y, predictions)\n",
    "    \n",
    "    dloss_dw, dloss_db = tape.gradient(loss, [weights, bias]) #note that we can pass lists as well here.\n",
    "  weights.assign_sub(learning_rate * dloss_dw)\n",
    "  bias.assign_sub(learning_rate * dloss_db)\n",
    "  #calculating the validation loss\n",
    "  predictions1 = predict(x1)\n",
    "  v_loss = compute_loss(y1, predictions1)\n",
    "  \n",
    "  return loss,v_loss"
   ]
  },
  {
   "cell_type": "code",
   "execution_count": 34,
   "id": "6938f84f",
   "metadata": {
    "colab": {
     "base_uri": "https://localhost:8080/"
    },
    "executionInfo": {
     "elapsed": 2533,
     "status": "ok",
     "timestamp": 1637380658669,
     "user": {
      "displayName": "Stephen Catalfio",
      "photoUrl": "https://lh3.googleusercontent.com/a/default-user=s64",
      "userId": "01995132954552918474"
     },
     "user_tz": 420
    },
    "id": "6938f84f",
    "outputId": "f9451074-6e0c-43ce-f094-ef3eaa0b1298"
   },
   "outputs": [
    {
     "name": "stdout",
     "output_type": "stream",
     "text": [
      "Epoch 0: Training Loss = 0.7981, validation_loss= 0.7132\n",
      "Epoch 1: Training Loss = 0.7164, validation_loss= 0.6431\n",
      "Epoch 2: Training Loss = 0.6454, validation_loss= 0.5821\n",
      "Epoch 3: Training Loss = 0.5836, validation_loss= 0.5291\n",
      "Epoch 4: Training Loss = 0.5298, validation_loss= 0.4829\n",
      "Epoch 5: Training Loss = 0.4831, validation_loss= 0.4427\n",
      "Epoch 6: Training Loss = 0.4424, validation_loss= 0.4077\n",
      "Epoch 7: Training Loss = 0.4070, validation_loss= 0.3773\n",
      "Epoch 8: Training Loss = 0.3762, validation_loss= 0.3508\n",
      "Epoch 9: Training Loss = 0.3494, validation_loss= 0.3278\n",
      "Epoch 10: Training Loss = 0.3261, validation_loss= 0.3077\n",
      "Epoch 11: Training Loss = 0.3059, validation_loss= 0.2902\n",
      "Epoch 12: Training Loss = 0.2882, validation_loss= 0.2750\n",
      "Epoch 13: Training Loss = 0.2729, validation_loss= 0.2617\n",
      "Epoch 14: Training Loss = 0.2595, validation_loss= 0.2502\n",
      "Epoch 15: Training Loss = 0.2479, validation_loss= 0.2401\n",
      "Epoch 16: Training Loss = 0.2378, validation_loss= 0.2313\n",
      "Epoch 17: Training Loss = 0.2289, validation_loss= 0.2237\n",
      "Epoch 18: Training Loss = 0.2213, validation_loss= 0.2170\n",
      "Epoch 19: Training Loss = 0.2146, validation_loss= 0.2112\n",
      "Epoch 20: Training Loss = 0.2087, validation_loss= 0.2061\n",
      "Epoch 21: Training Loss = 0.2037, validation_loss= 0.2017\n",
      "Epoch 22: Training Loss = 0.1992, validation_loss= 0.1978\n",
      "Epoch 23: Training Loss = 0.1954, validation_loss= 0.1944\n",
      "Epoch 24: Training Loss = 0.1920, validation_loss= 0.1915\n",
      "Epoch 25: Training Loss = 0.1891, validation_loss= 0.1889\n",
      "Epoch 26: Training Loss = 0.1865, validation_loss= 0.1866\n",
      "Epoch 27: Training Loss = 0.1843, validation_loss= 0.1847\n",
      "Epoch 28: Training Loss = 0.1823, validation_loss= 0.1829\n",
      "Epoch 29: Training Loss = 0.1806, validation_loss= 0.1814\n",
      "Epoch 30: Training Loss = 0.1791, validation_loss= 0.1800\n",
      "Epoch 31: Training Loss = 0.1778, validation_loss= 0.1789\n",
      "Epoch 32: Training Loss = 0.1766, validation_loss= 0.1778\n",
      "Epoch 33: Training Loss = 0.1756, validation_loss= 0.1769\n",
      "Epoch 34: Training Loss = 0.1747, validation_loss= 0.1761\n",
      "Epoch 35: Training Loss = 0.1740, validation_loss= 0.1754\n",
      "Epoch 36: Training Loss = 0.1733, validation_loss= 0.1747\n",
      "Epoch 37: Training Loss = 0.1727, validation_loss= 0.1742\n",
      "Epoch 38: Training Loss = 0.1721, validation_loss= 0.1737\n",
      "Epoch 39: Training Loss = 0.1716, validation_loss= 0.1732\n",
      "Epoch 40: Training Loss = 0.1712, validation_loss= 0.1728\n",
      "Epoch 41: Training Loss = 0.1708, validation_loss= 0.1725\n",
      "Epoch 42: Training Loss = 0.1705, validation_loss= 0.1721\n",
      "Epoch 43: Training Loss = 0.1702, validation_loss= 0.1718\n",
      "Epoch 44: Training Loss = 0.1699, validation_loss= 0.1716\n",
      "Epoch 45: Training Loss = 0.1697, validation_loss= 0.1713\n",
      "Epoch 46: Training Loss = 0.1694, validation_loss= 0.1711\n",
      "Epoch 47: Training Loss = 0.1692, validation_loss= 0.1709\n",
      "Epoch 48: Training Loss = 0.1691, validation_loss= 0.1707\n",
      "Epoch 49: Training Loss = 0.1689, validation_loss= 0.1705\n",
      "Epoch 50: Training Loss = 0.1687, validation_loss= 0.1704\n",
      "Epoch 51: Training Loss = 0.1686, validation_loss= 0.1702\n",
      "Epoch 52: Training Loss = 0.1684, validation_loss= 0.1701\n",
      "Epoch 53: Training Loss = 0.1683, validation_loss= 0.1699\n",
      "Epoch 54: Training Loss = 0.1682, validation_loss= 0.1698\n",
      "Epoch 55: Training Loss = 0.1681, validation_loss= 0.1697\n",
      "Epoch 56: Training Loss = 0.1680, validation_loss= 0.1696\n",
      "Epoch 57: Training Loss = 0.1679, validation_loss= 0.1695\n",
      "Epoch 58: Training Loss = 0.1678, validation_loss= 0.1694\n",
      "Epoch 59: Training Loss = 0.1677, validation_loss= 0.1693\n",
      "Epoch 60: Training Loss = 0.1676, validation_loss= 0.1692\n",
      "Epoch 61: Training Loss = 0.1675, validation_loss= 0.1691\n",
      "Epoch 62: Training Loss = 0.1674, validation_loss= 0.1690\n",
      "Epoch 63: Training Loss = 0.1674, validation_loss= 0.1689\n",
      "Epoch 64: Training Loss = 0.1673, validation_loss= 0.1688\n",
      "Epoch 65: Training Loss = 0.1672, validation_loss= 0.1687\n",
      "Epoch 66: Training Loss = 0.1671, validation_loss= 0.1686\n",
      "Epoch 67: Training Loss = 0.1671, validation_loss= 0.1685\n",
      "Epoch 68: Training Loss = 0.1670, validation_loss= 0.1685\n",
      "Epoch 69: Training Loss = 0.1669, validation_loss= 0.1684\n",
      "Epoch 70: Training Loss = 0.1669, validation_loss= 0.1683\n",
      "Epoch 71: Training Loss = 0.1668, validation_loss= 0.1682\n",
      "Epoch 72: Training Loss = 0.1667, validation_loss= 0.1682\n",
      "Epoch 73: Training Loss = 0.1667, validation_loss= 0.1681\n",
      "Epoch 74: Training Loss = 0.1666, validation_loss= 0.1680\n",
      "Epoch 75: Training Loss = 0.1665, validation_loss= 0.1679\n",
      "Epoch 76: Training Loss = 0.1665, validation_loss= 0.1679\n",
      "Epoch 77: Training Loss = 0.1664, validation_loss= 0.1678\n",
      "Epoch 78: Training Loss = 0.1663, validation_loss= 0.1677\n",
      "Epoch 79: Training Loss = 0.1663, validation_loss= 0.1677\n",
      "Epoch 80: Training Loss = 0.1662, validation_loss= 0.1676\n",
      "Epoch 81: Training Loss = 0.1662, validation_loss= 0.1675\n",
      "Epoch 82: Training Loss = 0.1661, validation_loss= 0.1674\n",
      "Epoch 83: Training Loss = 0.1660, validation_loss= 0.1674\n",
      "Epoch 84: Training Loss = 0.1660, validation_loss= 0.1673\n",
      "Epoch 85: Training Loss = 0.1659, validation_loss= 0.1672\n",
      "Epoch 86: Training Loss = 0.1659, validation_loss= 0.1672\n",
      "Epoch 87: Training Loss = 0.1658, validation_loss= 0.1671\n",
      "Epoch 88: Training Loss = 0.1658, validation_loss= 0.1670\n",
      "Epoch 89: Training Loss = 0.1657, validation_loss= 0.1670\n",
      "Epoch 90: Training Loss = 0.1656, validation_loss= 0.1669\n",
      "Epoch 91: Training Loss = 0.1656, validation_loss= 0.1669\n",
      "Epoch 92: Training Loss = 0.1655, validation_loss= 0.1668\n",
      "Epoch 93: Training Loss = 0.1655, validation_loss= 0.1667\n",
      "Epoch 94: Training Loss = 0.1654, validation_loss= 0.1667\n",
      "Epoch 95: Training Loss = 0.1654, validation_loss= 0.1666\n",
      "Epoch 96: Training Loss = 0.1653, validation_loss= 0.1665\n",
      "Epoch 97: Training Loss = 0.1653, validation_loss= 0.1665\n",
      "Epoch 98: Training Loss = 0.1652, validation_loss= 0.1664\n",
      "Epoch 99: Training Loss = 0.1652, validation_loss= 0.1664\n",
      "Epoch 100: Training Loss = 0.1651, validation_loss= 0.1663\n",
      "Epoch 101: Training Loss = 0.1650, validation_loss= 0.1662\n",
      "Epoch 102: Training Loss = 0.1650, validation_loss= 0.1662\n",
      "Epoch 103: Training Loss = 0.1649, validation_loss= 0.1661\n",
      "Epoch 104: Training Loss = 0.1649, validation_loss= 0.1661\n",
      "Epoch 105: Training Loss = 0.1648, validation_loss= 0.1660\n",
      "Epoch 106: Training Loss = 0.1648, validation_loss= 0.1659\n",
      "Epoch 107: Training Loss = 0.1647, validation_loss= 0.1659\n",
      "Epoch 108: Training Loss = 0.1647, validation_loss= 0.1658\n",
      "Epoch 109: Training Loss = 0.1646, validation_loss= 0.1658\n",
      "Epoch 110: Training Loss = 0.1646, validation_loss= 0.1657\n",
      "Epoch 111: Training Loss = 0.1645, validation_loss= 0.1657\n",
      "Epoch 112: Training Loss = 0.1645, validation_loss= 0.1656\n",
      "Epoch 113: Training Loss = 0.1644, validation_loss= 0.1655\n",
      "Epoch 114: Training Loss = 0.1644, validation_loss= 0.1655\n",
      "Epoch 115: Training Loss = 0.1643, validation_loss= 0.1654\n",
      "Epoch 116: Training Loss = 0.1643, validation_loss= 0.1654\n",
      "Epoch 117: Training Loss = 0.1642, validation_loss= 0.1653\n",
      "Epoch 118: Training Loss = 0.1642, validation_loss= 0.1653\n",
      "Epoch 119: Training Loss = 0.1641, validation_loss= 0.1652\n",
      "Epoch 120: Training Loss = 0.1641, validation_loss= 0.1652\n",
      "Epoch 121: Training Loss = 0.1640, validation_loss= 0.1651\n",
      "Epoch 122: Training Loss = 0.1640, validation_loss= 0.1651\n",
      "Epoch 123: Training Loss = 0.1639, validation_loss= 0.1650\n",
      "Epoch 124: Training Loss = 0.1639, validation_loss= 0.1650\n",
      "Epoch 125: Training Loss = 0.1639, validation_loss= 0.1649\n",
      "Epoch 126: Training Loss = 0.1638, validation_loss= 0.1648\n",
      "Epoch 127: Training Loss = 0.1638, validation_loss= 0.1648\n",
      "Epoch 128: Training Loss = 0.1637, validation_loss= 0.1647\n",
      "Epoch 129: Training Loss = 0.1637, validation_loss= 0.1647\n",
      "Epoch 130: Training Loss = 0.1636, validation_loss= 0.1646\n",
      "Epoch 131: Training Loss = 0.1636, validation_loss= 0.1646\n",
      "Epoch 132: Training Loss = 0.1635, validation_loss= 0.1645\n",
      "Epoch 133: Training Loss = 0.1635, validation_loss= 0.1645\n",
      "Epoch 134: Training Loss = 0.1634, validation_loss= 0.1644\n",
      "Epoch 135: Training Loss = 0.1634, validation_loss= 0.1644\n",
      "Epoch 136: Training Loss = 0.1634, validation_loss= 0.1643\n",
      "Epoch 137: Training Loss = 0.1633, validation_loss= 0.1643\n",
      "Epoch 138: Training Loss = 0.1633, validation_loss= 0.1642\n",
      "Epoch 139: Training Loss = 0.1632, validation_loss= 0.1642\n",
      "Epoch 140: Training Loss = 0.1632, validation_loss= 0.1641\n",
      "Epoch 141: Training Loss = 0.1631, validation_loss= 0.1641\n",
      "Epoch 142: Training Loss = 0.1631, validation_loss= 0.1640\n",
      "Epoch 143: Training Loss = 0.1630, validation_loss= 0.1640\n",
      "Epoch 144: Training Loss = 0.1630, validation_loss= 0.1640\n",
      "Epoch 145: Training Loss = 0.1630, validation_loss= 0.1639\n",
      "Epoch 146: Training Loss = 0.1629, validation_loss= 0.1639\n",
      "Epoch 147: Training Loss = 0.1629, validation_loss= 0.1638\n",
      "Epoch 148: Training Loss = 0.1628, validation_loss= 0.1638\n",
      "Epoch 149: Training Loss = 0.1628, validation_loss= 0.1637\n",
      "Epoch 150: Training Loss = 0.1628, validation_loss= 0.1637\n",
      "Epoch 151: Training Loss = 0.1627, validation_loss= 0.1636\n",
      "Epoch 152: Training Loss = 0.1627, validation_loss= 0.1636\n",
      "Epoch 153: Training Loss = 0.1626, validation_loss= 0.1635\n",
      "Epoch 154: Training Loss = 0.1626, validation_loss= 0.1635\n",
      "Epoch 155: Training Loss = 0.1625, validation_loss= 0.1634\n",
      "Epoch 156: Training Loss = 0.1625, validation_loss= 0.1634\n",
      "Epoch 157: Training Loss = 0.1625, validation_loss= 0.1634\n",
      "Epoch 158: Training Loss = 0.1624, validation_loss= 0.1633\n",
      "Epoch 159: Training Loss = 0.1624, validation_loss= 0.1633\n",
      "Epoch 160: Training Loss = 0.1623, validation_loss= 0.1632\n",
      "Epoch 161: Training Loss = 0.1623, validation_loss= 0.1632\n",
      "Epoch 162: Training Loss = 0.1623, validation_loss= 0.1631\n",
      "Epoch 163: Training Loss = 0.1622, validation_loss= 0.1631\n",
      "Epoch 164: Training Loss = 0.1622, validation_loss= 0.1630\n",
      "Epoch 165: Training Loss = 0.1621, validation_loss= 0.1630\n",
      "Epoch 166: Training Loss = 0.1621, validation_loss= 0.1630\n",
      "Epoch 167: Training Loss = 0.1621, validation_loss= 0.1629\n",
      "Epoch 168: Training Loss = 0.1620, validation_loss= 0.1629\n",
      "Epoch 169: Training Loss = 0.1620, validation_loss= 0.1628\n",
      "Epoch 170: Training Loss = 0.1620, validation_loss= 0.1628\n",
      "Epoch 171: Training Loss = 0.1619, validation_loss= 0.1627\n",
      "Epoch 172: Training Loss = 0.1619, validation_loss= 0.1627\n",
      "Epoch 173: Training Loss = 0.1618, validation_loss= 0.1627\n",
      "Epoch 174: Training Loss = 0.1618, validation_loss= 0.1626\n",
      "Epoch 175: Training Loss = 0.1618, validation_loss= 0.1626\n",
      "Epoch 176: Training Loss = 0.1617, validation_loss= 0.1625\n",
      "Epoch 177: Training Loss = 0.1617, validation_loss= 0.1625\n",
      "Epoch 178: Training Loss = 0.1617, validation_loss= 0.1625\n",
      "Epoch 179: Training Loss = 0.1616, validation_loss= 0.1624\n",
      "Epoch 180: Training Loss = 0.1616, validation_loss= 0.1624\n",
      "Epoch 181: Training Loss = 0.1615, validation_loss= 0.1623\n",
      "Epoch 182: Training Loss = 0.1615, validation_loss= 0.1623\n",
      "Epoch 183: Training Loss = 0.1615, validation_loss= 0.1623\n",
      "Epoch 184: Training Loss = 0.1614, validation_loss= 0.1622\n",
      "Epoch 185: Training Loss = 0.1614, validation_loss= 0.1622\n",
      "Epoch 186: Training Loss = 0.1614, validation_loss= 0.1621\n",
      "Epoch 187: Training Loss = 0.1613, validation_loss= 0.1621\n",
      "Epoch 188: Training Loss = 0.1613, validation_loss= 0.1621\n",
      "Epoch 189: Training Loss = 0.1613, validation_loss= 0.1620\n",
      "Epoch 190: Training Loss = 0.1612, validation_loss= 0.1620\n",
      "Epoch 191: Training Loss = 0.1612, validation_loss= 0.1619\n",
      "Epoch 192: Training Loss = 0.1612, validation_loss= 0.1619\n",
      "Epoch 193: Training Loss = 0.1611, validation_loss= 0.1619\n",
      "Epoch 194: Training Loss = 0.1611, validation_loss= 0.1618\n",
      "Epoch 195: Training Loss = 0.1610, validation_loss= 0.1618\n",
      "Epoch 196: Training Loss = 0.1610, validation_loss= 0.1618\n",
      "Epoch 197: Training Loss = 0.1610, validation_loss= 0.1617\n",
      "Epoch 198: Training Loss = 0.1609, validation_loss= 0.1617\n",
      "Epoch 199: Training Loss = 0.1609, validation_loss= 0.1616\n",
      "Epoch 200: Training Loss = 0.1609, validation_loss= 0.1616\n",
      "Epoch 201: Training Loss = 0.1608, validation_loss= 0.1616\n",
      "Epoch 202: Training Loss = 0.1608, validation_loss= 0.1615\n",
      "Epoch 203: Training Loss = 0.1608, validation_loss= 0.1615\n",
      "Epoch 204: Training Loss = 0.1607, validation_loss= 0.1615\n",
      "Epoch 205: Training Loss = 0.1607, validation_loss= 0.1614\n",
      "Epoch 206: Training Loss = 0.1607, validation_loss= 0.1614\n",
      "Epoch 207: Training Loss = 0.1606, validation_loss= 0.1614\n",
      "Epoch 208: Training Loss = 0.1606, validation_loss= 0.1613\n",
      "Epoch 209: Training Loss = 0.1606, validation_loss= 0.1613\n",
      "Epoch 210: Training Loss = 0.1605, validation_loss= 0.1612\n",
      "Epoch 211: Training Loss = 0.1605, validation_loss= 0.1612\n",
      "Epoch 212: Training Loss = 0.1605, validation_loss= 0.1612\n",
      "Epoch 213: Training Loss = 0.1604, validation_loss= 0.1611\n",
      "Epoch 214: Training Loss = 0.1604, validation_loss= 0.1611\n",
      "Epoch 215: Training Loss = 0.1604, validation_loss= 0.1611\n",
      "Epoch 216: Training Loss = 0.1604, validation_loss= 0.1610\n",
      "Epoch 217: Training Loss = 0.1603, validation_loss= 0.1610\n",
      "Epoch 218: Training Loss = 0.1603, validation_loss= 0.1610\n",
      "Epoch 219: Training Loss = 0.1603, validation_loss= 0.1609\n",
      "Epoch 220: Training Loss = 0.1602, validation_loss= 0.1609\n",
      "Epoch 221: Training Loss = 0.1602, validation_loss= 0.1609\n",
      "Epoch 222: Training Loss = 0.1602, validation_loss= 0.1608\n",
      "Epoch 223: Training Loss = 0.1601, validation_loss= 0.1608\n",
      "Epoch 224: Training Loss = 0.1601, validation_loss= 0.1608\n",
      "Epoch 225: Training Loss = 0.1601, validation_loss= 0.1607\n",
      "Epoch 226: Training Loss = 0.1600, validation_loss= 0.1607\n",
      "Epoch 227: Training Loss = 0.1600, validation_loss= 0.1607\n",
      "Epoch 228: Training Loss = 0.1600, validation_loss= 0.1606\n",
      "Epoch 229: Training Loss = 0.1599, validation_loss= 0.1606\n",
      "Epoch 230: Training Loss = 0.1599, validation_loss= 0.1606\n",
      "Epoch 231: Training Loss = 0.1599, validation_loss= 0.1605\n",
      "Epoch 232: Training Loss = 0.1599, validation_loss= 0.1605\n",
      "Epoch 233: Training Loss = 0.1598, validation_loss= 0.1605\n",
      "Epoch 234: Training Loss = 0.1598, validation_loss= 0.1604\n",
      "Epoch 235: Training Loss = 0.1598, validation_loss= 0.1604\n",
      "Epoch 236: Training Loss = 0.1597, validation_loss= 0.1604\n",
      "Epoch 237: Training Loss = 0.1597, validation_loss= 0.1603\n",
      "Epoch 238: Training Loss = 0.1597, validation_loss= 0.1603\n",
      "Epoch 239: Training Loss = 0.1597, validation_loss= 0.1603\n",
      "Epoch 240: Training Loss = 0.1596, validation_loss= 0.1603\n",
      "Epoch 241: Training Loss = 0.1596, validation_loss= 0.1602\n",
      "Epoch 242: Training Loss = 0.1596, validation_loss= 0.1602\n",
      "Epoch 243: Training Loss = 0.1595, validation_loss= 0.1602\n",
      "Epoch 244: Training Loss = 0.1595, validation_loss= 0.1601\n",
      "Epoch 245: Training Loss = 0.1595, validation_loss= 0.1601\n",
      "Epoch 246: Training Loss = 0.1594, validation_loss= 0.1601\n",
      "Epoch 247: Training Loss = 0.1594, validation_loss= 0.1600\n",
      "Epoch 248: Training Loss = 0.1594, validation_loss= 0.1600\n",
      "Epoch 249: Training Loss = 0.1594, validation_loss= 0.1600\n",
      "Epoch 250: Training Loss = 0.1593, validation_loss= 0.1599\n",
      "Epoch 251: Training Loss = 0.1593, validation_loss= 0.1599\n",
      "Epoch 252: Training Loss = 0.1593, validation_loss= 0.1599\n",
      "Epoch 253: Training Loss = 0.1593, validation_loss= 0.1599\n",
      "Epoch 254: Training Loss = 0.1592, validation_loss= 0.1598\n",
      "Epoch 255: Training Loss = 0.1592, validation_loss= 0.1598\n",
      "Epoch 256: Training Loss = 0.1592, validation_loss= 0.1598\n",
      "Epoch 257: Training Loss = 0.1591, validation_loss= 0.1597\n",
      "Epoch 258: Training Loss = 0.1591, validation_loss= 0.1597\n",
      "Epoch 259: Training Loss = 0.1591, validation_loss= 0.1597\n",
      "Epoch 260: Training Loss = 0.1591, validation_loss= 0.1597\n",
      "Epoch 261: Training Loss = 0.1590, validation_loss= 0.1596\n",
      "Epoch 262: Training Loss = 0.1590, validation_loss= 0.1596\n",
      "Epoch 263: Training Loss = 0.1590, validation_loss= 0.1596\n",
      "Epoch 264: Training Loss = 0.1589, validation_loss= 0.1595\n",
      "Epoch 265: Training Loss = 0.1589, validation_loss= 0.1595\n",
      "Epoch 266: Training Loss = 0.1589, validation_loss= 0.1595\n",
      "Epoch 267: Training Loss = 0.1589, validation_loss= 0.1595\n",
      "Epoch 268: Training Loss = 0.1588, validation_loss= 0.1594\n",
      "Epoch 269: Training Loss = 0.1588, validation_loss= 0.1594\n",
      "Epoch 270: Training Loss = 0.1588, validation_loss= 0.1594\n",
      "Epoch 271: Training Loss = 0.1588, validation_loss= 0.1593\n",
      "Epoch 272: Training Loss = 0.1587, validation_loss= 0.1593\n",
      "Epoch 273: Training Loss = 0.1587, validation_loss= 0.1593\n",
      "Epoch 274: Training Loss = 0.1587, validation_loss= 0.1593\n",
      "Epoch 275: Training Loss = 0.1587, validation_loss= 0.1592\n",
      "Epoch 276: Training Loss = 0.1586, validation_loss= 0.1592\n",
      "Epoch 277: Training Loss = 0.1586, validation_loss= 0.1592\n",
      "Epoch 278: Training Loss = 0.1586, validation_loss= 0.1591\n",
      "Epoch 279: Training Loss = 0.1586, validation_loss= 0.1591\n",
      "Epoch 280: Training Loss = 0.1585, validation_loss= 0.1591\n",
      "Epoch 281: Training Loss = 0.1585, validation_loss= 0.1591\n",
      "Epoch 282: Training Loss = 0.1585, validation_loss= 0.1590\n",
      "Epoch 283: Training Loss = 0.1585, validation_loss= 0.1590\n",
      "Epoch 284: Training Loss = 0.1584, validation_loss= 0.1590\n",
      "Epoch 285: Training Loss = 0.1584, validation_loss= 0.1590\n",
      "Epoch 286: Training Loss = 0.1584, validation_loss= 0.1589\n",
      "Epoch 287: Training Loss = 0.1584, validation_loss= 0.1589\n",
      "Epoch 288: Training Loss = 0.1583, validation_loss= 0.1589\n",
      "Epoch 289: Training Loss = 0.1583, validation_loss= 0.1589\n",
      "Epoch 290: Training Loss = 0.1583, validation_loss= 0.1588\n",
      "Epoch 291: Training Loss = 0.1583, validation_loss= 0.1588\n",
      "Epoch 292: Training Loss = 0.1582, validation_loss= 0.1588\n",
      "Epoch 293: Training Loss = 0.1582, validation_loss= 0.1587\n",
      "Epoch 294: Training Loss = 0.1582, validation_loss= 0.1587\n",
      "Epoch 295: Training Loss = 0.1582, validation_loss= 0.1587\n",
      "Epoch 296: Training Loss = 0.1581, validation_loss= 0.1587\n",
      "Epoch 297: Training Loss = 0.1581, validation_loss= 0.1586\n",
      "Epoch 298: Training Loss = 0.1581, validation_loss= 0.1586\n",
      "Epoch 299: Training Loss = 0.1581, validation_loss= 0.1586\n",
      "Epoch 300: Training Loss = 0.1580, validation_loss= 0.1586\n",
      "Epoch 301: Training Loss = 0.1580, validation_loss= 0.1585\n",
      "Epoch 302: Training Loss = 0.1580, validation_loss= 0.1585\n",
      "Epoch 303: Training Loss = 0.1580, validation_loss= 0.1585\n",
      "Epoch 304: Training Loss = 0.1579, validation_loss= 0.1585\n",
      "Epoch 305: Training Loss = 0.1579, validation_loss= 0.1584\n",
      "Epoch 306: Training Loss = 0.1579, validation_loss= 0.1584\n",
      "Epoch 307: Training Loss = 0.1579, validation_loss= 0.1584\n",
      "Epoch 308: Training Loss = 0.1578, validation_loss= 0.1584\n",
      "Epoch 309: Training Loss = 0.1578, validation_loss= 0.1583\n",
      "Epoch 310: Training Loss = 0.1578, validation_loss= 0.1583\n",
      "Epoch 311: Training Loss = 0.1578, validation_loss= 0.1583\n",
      "Epoch 312: Training Loss = 0.1577, validation_loss= 0.1583\n",
      "Epoch 313: Training Loss = 0.1577, validation_loss= 0.1583\n",
      "Epoch 314: Training Loss = 0.1577, validation_loss= 0.1582\n",
      "Epoch 315: Training Loss = 0.1577, validation_loss= 0.1582\n",
      "Epoch 316: Training Loss = 0.1577, validation_loss= 0.1582\n",
      "Epoch 317: Training Loss = 0.1576, validation_loss= 0.1582\n",
      "Epoch 318: Training Loss = 0.1576, validation_loss= 0.1581\n",
      "Epoch 319: Training Loss = 0.1576, validation_loss= 0.1581\n",
      "Epoch 320: Training Loss = 0.1576, validation_loss= 0.1581\n",
      "Epoch 321: Training Loss = 0.1575, validation_loss= 0.1581\n",
      "Epoch 322: Training Loss = 0.1575, validation_loss= 0.1580\n",
      "Epoch 323: Training Loss = 0.1575, validation_loss= 0.1580\n",
      "Epoch 324: Training Loss = 0.1575, validation_loss= 0.1580\n",
      "Epoch 325: Training Loss = 0.1575, validation_loss= 0.1580\n",
      "Epoch 326: Training Loss = 0.1574, validation_loss= 0.1579\n",
      "Epoch 327: Training Loss = 0.1574, validation_loss= 0.1579\n",
      "Epoch 328: Training Loss = 0.1574, validation_loss= 0.1579\n",
      "Epoch 329: Training Loss = 0.1574, validation_loss= 0.1579\n",
      "Epoch 330: Training Loss = 0.1573, validation_loss= 0.1579\n",
      "Epoch 331: Training Loss = 0.1573, validation_loss= 0.1578\n",
      "Epoch 332: Training Loss = 0.1573, validation_loss= 0.1578\n",
      "Epoch 333: Training Loss = 0.1573, validation_loss= 0.1578\n",
      "Epoch 334: Training Loss = 0.1573, validation_loss= 0.1578\n",
      "Epoch 335: Training Loss = 0.1572, validation_loss= 0.1577\n",
      "Epoch 336: Training Loss = 0.1572, validation_loss= 0.1577\n",
      "Epoch 337: Training Loss = 0.1572, validation_loss= 0.1577\n",
      "Epoch 338: Training Loss = 0.1572, validation_loss= 0.1577\n",
      "Epoch 339: Training Loss = 0.1571, validation_loss= 0.1577\n",
      "Epoch 340: Training Loss = 0.1571, validation_loss= 0.1576\n",
      "Epoch 341: Training Loss = 0.1571, validation_loss= 0.1576\n",
      "Epoch 342: Training Loss = 0.1571, validation_loss= 0.1576\n",
      "Epoch 343: Training Loss = 0.1571, validation_loss= 0.1576\n",
      "Epoch 344: Training Loss = 0.1570, validation_loss= 0.1575\n",
      "Epoch 345: Training Loss = 0.1570, validation_loss= 0.1575\n",
      "Epoch 346: Training Loss = 0.1570, validation_loss= 0.1575\n",
      "Epoch 347: Training Loss = 0.1570, validation_loss= 0.1575\n",
      "Epoch 348: Training Loss = 0.1569, validation_loss= 0.1575\n",
      "Epoch 349: Training Loss = 0.1569, validation_loss= 0.1574\n",
      "Epoch 350: Training Loss = 0.1569, validation_loss= 0.1574\n",
      "Epoch 351: Training Loss = 0.1569, validation_loss= 0.1574\n",
      "Epoch 352: Training Loss = 0.1569, validation_loss= 0.1574\n",
      "Epoch 353: Training Loss = 0.1568, validation_loss= 0.1573\n",
      "Epoch 354: Training Loss = 0.1568, validation_loss= 0.1573\n",
      "Epoch 355: Training Loss = 0.1568, validation_loss= 0.1573\n",
      "Epoch 356: Training Loss = 0.1568, validation_loss= 0.1573\n",
      "Epoch 357: Training Loss = 0.1568, validation_loss= 0.1573\n",
      "Epoch 358: Training Loss = 0.1567, validation_loss= 0.1572\n",
      "Epoch 359: Training Loss = 0.1567, validation_loss= 0.1572\n",
      "Epoch 360: Training Loss = 0.1567, validation_loss= 0.1572\n",
      "Epoch 361: Training Loss = 0.1567, validation_loss= 0.1572\n",
      "Epoch 362: Training Loss = 0.1567, validation_loss= 0.1572\n",
      "Epoch 363: Training Loss = 0.1566, validation_loss= 0.1571\n",
      "Epoch 364: Training Loss = 0.1566, validation_loss= 0.1571\n",
      "Epoch 365: Training Loss = 0.1566, validation_loss= 0.1571\n",
      "Epoch 366: Training Loss = 0.1566, validation_loss= 0.1571\n",
      "Epoch 367: Training Loss = 0.1566, validation_loss= 0.1571\n",
      "Epoch 368: Training Loss = 0.1565, validation_loss= 0.1570\n",
      "Epoch 369: Training Loss = 0.1565, validation_loss= 0.1570\n",
      "Epoch 370: Training Loss = 0.1565, validation_loss= 0.1570\n",
      "Epoch 371: Training Loss = 0.1565, validation_loss= 0.1570\n",
      "Epoch 372: Training Loss = 0.1565, validation_loss= 0.1570\n",
      "Epoch 373: Training Loss = 0.1564, validation_loss= 0.1569\n",
      "Epoch 374: Training Loss = 0.1564, validation_loss= 0.1569\n",
      "Epoch 375: Training Loss = 0.1564, validation_loss= 0.1569\n",
      "Epoch 376: Training Loss = 0.1564, validation_loss= 0.1569\n",
      "Epoch 377: Training Loss = 0.1564, validation_loss= 0.1569\n",
      "Epoch 378: Training Loss = 0.1563, validation_loss= 0.1568\n",
      "Epoch 379: Training Loss = 0.1563, validation_loss= 0.1568\n",
      "Epoch 380: Training Loss = 0.1563, validation_loss= 0.1568\n",
      "Epoch 381: Training Loss = 0.1563, validation_loss= 0.1568\n",
      "Epoch 382: Training Loss = 0.1563, validation_loss= 0.1568\n",
      "Epoch 383: Training Loss = 0.1562, validation_loss= 0.1567\n",
      "Epoch 384: Training Loss = 0.1562, validation_loss= 0.1567\n",
      "Epoch 385: Training Loss = 0.1562, validation_loss= 0.1567\n",
      "Epoch 386: Training Loss = 0.1562, validation_loss= 0.1567\n",
      "Epoch 387: Training Loss = 0.1562, validation_loss= 0.1567\n",
      "Epoch 388: Training Loss = 0.1561, validation_loss= 0.1566\n",
      "Epoch 389: Training Loss = 0.1561, validation_loss= 0.1566\n",
      "Epoch 390: Training Loss = 0.1561, validation_loss= 0.1566\n",
      "Epoch 391: Training Loss = 0.1561, validation_loss= 0.1566\n",
      "Epoch 392: Training Loss = 0.1561, validation_loss= 0.1566\n",
      "Epoch 393: Training Loss = 0.1560, validation_loss= 0.1565\n",
      "Epoch 394: Training Loss = 0.1560, validation_loss= 0.1565\n",
      "Epoch 395: Training Loss = 0.1560, validation_loss= 0.1565\n",
      "Epoch 396: Training Loss = 0.1560, validation_loss= 0.1565\n",
      "Epoch 397: Training Loss = 0.1560, validation_loss= 0.1565\n",
      "Epoch 398: Training Loss = 0.1560, validation_loss= 0.1564\n",
      "Epoch 399: Training Loss = 0.1559, validation_loss= 0.1564\n",
      "Epoch 400: Training Loss = 0.1559, validation_loss= 0.1564\n",
      "Epoch 401: Training Loss = 0.1559, validation_loss= 0.1564\n",
      "Epoch 402: Training Loss = 0.1559, validation_loss= 0.1564\n",
      "Epoch 403: Training Loss = 0.1559, validation_loss= 0.1564\n",
      "Epoch 404: Training Loss = 0.1558, validation_loss= 0.1563\n",
      "Epoch 405: Training Loss = 0.1558, validation_loss= 0.1563\n",
      "Epoch 406: Training Loss = 0.1558, validation_loss= 0.1563\n",
      "Epoch 407: Training Loss = 0.1558, validation_loss= 0.1563\n",
      "Epoch 408: Training Loss = 0.1558, validation_loss= 0.1563\n",
      "Epoch 409: Training Loss = 0.1558, validation_loss= 0.1562\n",
      "Epoch 410: Training Loss = 0.1557, validation_loss= 0.1562\n",
      "Epoch 411: Training Loss = 0.1557, validation_loss= 0.1562\n",
      "Epoch 412: Training Loss = 0.1557, validation_loss= 0.1562\n",
      "Epoch 413: Training Loss = 0.1557, validation_loss= 0.1562\n",
      "Epoch 414: Training Loss = 0.1557, validation_loss= 0.1562\n",
      "Epoch 415: Training Loss = 0.1556, validation_loss= 0.1561\n",
      "Epoch 416: Training Loss = 0.1556, validation_loss= 0.1561\n",
      "Epoch 417: Training Loss = 0.1556, validation_loss= 0.1561\n",
      "Epoch 418: Training Loss = 0.1556, validation_loss= 0.1561\n",
      "Epoch 419: Training Loss = 0.1556, validation_loss= 0.1561\n",
      "Epoch 420: Training Loss = 0.1556, validation_loss= 0.1560\n",
      "Epoch 421: Training Loss = 0.1555, validation_loss= 0.1560\n",
      "Epoch 422: Training Loss = 0.1555, validation_loss= 0.1560\n",
      "Epoch 423: Training Loss = 0.1555, validation_loss= 0.1560\n",
      "Epoch 424: Training Loss = 0.1555, validation_loss= 0.1560\n",
      "Epoch 425: Training Loss = 0.1555, validation_loss= 0.1560\n",
      "Epoch 426: Training Loss = 0.1554, validation_loss= 0.1559\n",
      "Epoch 427: Training Loss = 0.1554, validation_loss= 0.1559\n",
      "Epoch 428: Training Loss = 0.1554, validation_loss= 0.1559\n",
      "Epoch 429: Training Loss = 0.1554, validation_loss= 0.1559\n",
      "Epoch 430: Training Loss = 0.1554, validation_loss= 0.1559\n",
      "Epoch 431: Training Loss = 0.1554, validation_loss= 0.1559\n",
      "Epoch 432: Training Loss = 0.1553, validation_loss= 0.1558\n",
      "Epoch 433: Training Loss = 0.1553, validation_loss= 0.1558\n",
      "Epoch 434: Training Loss = 0.1553, validation_loss= 0.1558\n",
      "Epoch 435: Training Loss = 0.1553, validation_loss= 0.1558\n",
      "Epoch 436: Training Loss = 0.1553, validation_loss= 0.1558\n",
      "Epoch 437: Training Loss = 0.1553, validation_loss= 0.1558\n",
      "Epoch 438: Training Loss = 0.1552, validation_loss= 0.1557\n",
      "Epoch 439: Training Loss = 0.1552, validation_loss= 0.1557\n",
      "Epoch 440: Training Loss = 0.1552, validation_loss= 0.1557\n",
      "Epoch 441: Training Loss = 0.1552, validation_loss= 0.1557\n",
      "Epoch 442: Training Loss = 0.1552, validation_loss= 0.1557\n",
      "Epoch 443: Training Loss = 0.1552, validation_loss= 0.1557\n",
      "Epoch 444: Training Loss = 0.1551, validation_loss= 0.1556\n",
      "Epoch 445: Training Loss = 0.1551, validation_loss= 0.1556\n",
      "Epoch 446: Training Loss = 0.1551, validation_loss= 0.1556\n",
      "Epoch 447: Training Loss = 0.1551, validation_loss= 0.1556\n",
      "Epoch 448: Training Loss = 0.1551, validation_loss= 0.1556\n",
      "Epoch 449: Training Loss = 0.1551, validation_loss= 0.1556\n",
      "Epoch 450: Training Loss = 0.1550, validation_loss= 0.1555\n",
      "Epoch 451: Training Loss = 0.1550, validation_loss= 0.1555\n",
      "Epoch 452: Training Loss = 0.1550, validation_loss= 0.1555\n",
      "Epoch 453: Training Loss = 0.1550, validation_loss= 0.1555\n",
      "Epoch 454: Training Loss = 0.1550, validation_loss= 0.1555\n",
      "Epoch 455: Training Loss = 0.1550, validation_loss= 0.1555\n",
      "Epoch 456: Training Loss = 0.1549, validation_loss= 0.1554\n",
      "Epoch 457: Training Loss = 0.1549, validation_loss= 0.1554\n",
      "Epoch 458: Training Loss = 0.1549, validation_loss= 0.1554\n",
      "Epoch 459: Training Loss = 0.1549, validation_loss= 0.1554\n",
      "Epoch 460: Training Loss = 0.1549, validation_loss= 0.1554\n",
      "Epoch 461: Training Loss = 0.1549, validation_loss= 0.1554\n",
      "Epoch 462: Training Loss = 0.1548, validation_loss= 0.1553\n",
      "Epoch 463: Training Loss = 0.1548, validation_loss= 0.1553\n",
      "Epoch 464: Training Loss = 0.1548, validation_loss= 0.1553\n",
      "Epoch 465: Training Loss = 0.1548, validation_loss= 0.1553\n",
      "Epoch 466: Training Loss = 0.1548, validation_loss= 0.1553\n",
      "Epoch 467: Training Loss = 0.1548, validation_loss= 0.1553\n",
      "Epoch 468: Training Loss = 0.1547, validation_loss= 0.1552\n",
      "Epoch 469: Training Loss = 0.1547, validation_loss= 0.1552\n",
      "Epoch 470: Training Loss = 0.1547, validation_loss= 0.1552\n",
      "Epoch 471: Training Loss = 0.1547, validation_loss= 0.1552\n",
      "Epoch 472: Training Loss = 0.1547, validation_loss= 0.1552\n",
      "Epoch 473: Training Loss = 0.1547, validation_loss= 0.1552\n",
      "Epoch 474: Training Loss = 0.1546, validation_loss= 0.1551\n",
      "Epoch 475: Training Loss = 0.1546, validation_loss= 0.1551\n",
      "Epoch 476: Training Loss = 0.1546, validation_loss= 0.1551\n",
      "Epoch 477: Training Loss = 0.1546, validation_loss= 0.1551\n",
      "Epoch 478: Training Loss = 0.1546, validation_loss= 0.1551\n",
      "Epoch 479: Training Loss = 0.1546, validation_loss= 0.1551\n",
      "Epoch 480: Training Loss = 0.1545, validation_loss= 0.1551\n",
      "Epoch 481: Training Loss = 0.1545, validation_loss= 0.1550\n",
      "Epoch 482: Training Loss = 0.1545, validation_loss= 0.1550\n",
      "Epoch 483: Training Loss = 0.1545, validation_loss= 0.1550\n",
      "Epoch 484: Training Loss = 0.1545, validation_loss= 0.1550\n",
      "Epoch 485: Training Loss = 0.1545, validation_loss= 0.1550\n",
      "Epoch 486: Training Loss = 0.1545, validation_loss= 0.1550\n",
      "Epoch 487: Training Loss = 0.1544, validation_loss= 0.1549\n",
      "Epoch 488: Training Loss = 0.1544, validation_loss= 0.1549\n",
      "Epoch 489: Training Loss = 0.1544, validation_loss= 0.1549\n",
      "Epoch 490: Training Loss = 0.1544, validation_loss= 0.1549\n",
      "Epoch 491: Training Loss = 0.1544, validation_loss= 0.1549\n",
      "Epoch 492: Training Loss = 0.1544, validation_loss= 0.1549\n",
      "Epoch 493: Training Loss = 0.1543, validation_loss= 0.1549\n",
      "Epoch 494: Training Loss = 0.1543, validation_loss= 0.1548\n",
      "Epoch 495: Training Loss = 0.1543, validation_loss= 0.1548\n",
      "Epoch 496: Training Loss = 0.1543, validation_loss= 0.1548\n",
      "Epoch 497: Training Loss = 0.1543, validation_loss= 0.1548\n",
      "Epoch 498: Training Loss = 0.1543, validation_loss= 0.1548\n",
      "Epoch 499: Training Loss = 0.1543, validation_loss= 0.1548\n",
      "Final Weights after 500 epochs:\n",
      "###############################################################################\n",
      "<tf.Variable 'Variable:0' shape=(11, 1) dtype=float32, numpy=\n",
      "array([[-0.1853457 ],\n",
      "       [ 0.0571922 ],\n",
      "       [-0.11644581],\n",
      "       [-0.0203654 ],\n",
      "       [-0.07747384],\n",
      "       [-0.07249879],\n",
      "       [-0.14450338],\n",
      "       [-0.09700526],\n",
      "       [ 0.08890965],\n",
      "       [-0.03900829],\n",
      "       [-0.11928347]], dtype=float32)>\n",
      "Final Bias after 500 epochs:\n",
      "###############################################################################\n",
      "<tf.Variable 'Variable:0' shape=(1,) dtype=float32, numpy=array([0.6148383], dtype=float32)>\n"
     ]
    }
   ],
   "source": [
    "training_loss=[]\n",
    "val_loss=[]\n",
    "\n",
    "for epoch in range(500):\n",
    "  loss,v_loss = train(X_train1, y_train1,X_val1,y_val1)\n",
    "  training_loss.append(loss)\n",
    "  val_loss.append(v_loss)\n",
    "  \n",
    "  print('Epoch %d: Training Loss = %.4f, validation_loss= %.4f' % (epoch, float(loss),float(v_loss)))\n",
    "\n",
    "\n",
    "print('Final Weights after 500 epochs:')\n",
    "print('###############################################################################')\n",
    "print(weights)\n",
    "\n",
    "print('Final Bias after 500 epochs:')\n",
    "print('###############################################################################')\n",
    "print(bias)"
   ]
  },
  {
   "cell_type": "markdown",
   "id": "RHloSbxEMf2L",
   "metadata": {
    "id": "RHloSbxEMf2L"
   },
   "source": [
    "As you can see, the loss is continuously decreasing which means model is learning\n",
    "\n",
    "Let's plot the training and validation loss"
   ]
  },
  {
   "cell_type": "code",
   "execution_count": 35,
   "id": "fe52f165",
   "metadata": {
    "colab": {
     "base_uri": "https://localhost:8080/",
     "height": 317
    },
    "executionInfo": {
     "elapsed": 195,
     "status": "ok",
     "timestamp": 1637380658862,
     "user": {
      "displayName": "Stephen Catalfio",
      "photoUrl": "https://lh3.googleusercontent.com/a/default-user=s64",
      "userId": "01995132954552918474"
     },
     "user_tz": 420
    },
    "id": "fe52f165",
    "outputId": "10b38845-8f41-4585-a5d8-9eb51ff37734"
   },
   "outputs": [
    {
     "data": {
      "image/png": "[encoded data removed]",
      "text/plain": [
       "<Figure size 432x288 with 1 Axes>"
      ]
     },
     "metadata": {
      "needs_background": "light"
     },
     "output_type": "display_data"
    },
    {
     "data": {
      "text/plain": [
       "<Figure size 432x288 with 0 Axes>"
      ]
     },
     "metadata": {},
     "output_type": "display_data"
    }
   ],
   "source": [
    "plt.plot(range(len(training_loss)), training_loss, 'b', label='Training loss') #plotting training loss\n",
    "plt.plot(range(len(val_loss)), val_loss, 'r', label='Validation loss') # plotting validation loss\n",
    "plt.title('Training and validation loss')\n",
    "plt.xlabel('Epochs ',fontsize=16)\n",
    "plt.ylabel('Loss',fontsize=16)\n",
    "plt.legend()\n",
    "plt.figure()\n",
    "plt.show()"
   ]
  },
  {
   "cell_type": "markdown",
   "id": "Wo3lzr41MqLn",
   "metadata": {
    "id": "Wo3lzr41MqLn"
   },
   "source": [
    "Above image shows plot of the training and validation loss. As you can see, lr model is not overfitting since validation and training loss is reducing gradually.\n",
    "\n",
    "Let's us now test our model on the test data"
   ]
  },
  {
   "cell_type": "code",
   "execution_count": 36,
   "id": "vbft9gbXfR4s",
   "metadata": {
    "colab": {
     "base_uri": "https://localhost:8080/"
    },
    "executionInfo": {
     "elapsed": 6,
     "status": "ok",
     "timestamp": 1637380658863,
     "user": {
      "displayName": "Stephen Catalfio",
      "photoUrl": "https://lh3.googleusercontent.com/a/default-user=s64",
      "userId": "01995132954552918474"
     },
     "user_tz": 420
    },
    "id": "vbft9gbXfR4s",
    "outputId": "3dde8ee0-e7a9-4b5d-87be-0bac7b393357"
   },
   "outputs": [
    {
     "name": "stdout",
     "output_type": "stream",
     "text": [
      "tf.Tensor(0.1562914, shape=(), dtype=float32)\n"
     ]
    }
   ],
   "source": [
    "test_predictions = tf.matmul(X_test, weights) + bias\n",
    "print(compute_loss(y_test, test_predictions))"
   ]
  },
  {
   "cell_type": "markdown",
   "id": "rAQGM6JNM0nH",
   "metadata": {
    "id": "rAQGM6JNM0nH"
   },
   "source": [
    "The testing loss is slightly higher than the training loss. Let's check the R square to understand how well the model has captured the variance of the dependent variable.\n"
   ]
  },
  {
   "cell_type": "markdown",
   "id": "lO8HQUqCN2JL",
   "metadata": {
    "id": "lO8HQUqCN2JL"
   },
   "source": [
    "### **Deep neural network**"
   ]
  },
  {
   "cell_type": "markdown",
   "id": "bLuPfkv1OCkC",
   "metadata": {
    "id": "bLuPfkv1OCkC"
   },
   "source": [
    "**Model-1**\n",
    "\n",
    "*   We will use a simple NN made of 5 fully-connected layers with ReLu activation. The NN takes a vector of length 11 as input. This represents the information related to each transactions, ie each line with 11 columns from the dataset. For each transaction, the final layer will output a probability distribution (sigmoid activation function) and classify either as  Exited (0) or not Exited (1).\n",
    "a dropout step is included to prevent overfitting.\n",
    "\n",
    "**Dropout**\n",
    "\n",
    "*   Dropout is a regularization technique for neural network models proposed by Srivastava, et al. in their 2014 paper Dropout: A Simple Way to Prevent Neural Networks from Overfitting. Dropout is a technique where randomly selected neurons are ignored during training. They are “dropped-out” randomly."
   ]
  },
  {
   "cell_type": "markdown",
   "id": "t2URJKogOu_4",
   "metadata": {
    "id": "t2URJKogOu_4"
   },
   "source": [
    "#### **Keras Modelling**"
   ]
  },
  {
   "cell_type": "markdown",
   "id": "zbg3o5YDO_OE",
   "metadata": {
    "id": "zbg3o5YDO_OE"
   },
   "source": [
    "Keras model object can be created with Sequential class\n",
    "\n",
    "At the outset, the model is empty per se. It is completed by adding additional layers and compilation"
   ]
  },
  {
   "cell_type": "code",
   "execution_count": 37,
   "id": "0ad61d43",
   "metadata": {
    "executionInfo": {
     "elapsed": 141,
     "status": "ok",
     "timestamp": 1637380659002,
     "user": {
      "displayName": "Stephen Catalfio",
      "photoUrl": "https://lh3.googleusercontent.com/a/default-user=s64",
      "userId": "01995132954552918474"
     },
     "user_tz": 420
    },
    "id": "0ad61d43"
   },
   "outputs": [],
   "source": [
    "#initialize the model\n",
    "model = Sequential()"
   ]
  },
  {
   "cell_type": "code",
   "execution_count": 38,
   "id": "c2e69185",
   "metadata": {
    "executionInfo": {
     "elapsed": 3,
     "status": "ok",
     "timestamp": 1637380659002,
     "user": {
      "displayName": "Stephen Catalfio",
      "photoUrl": "https://lh3.googleusercontent.com/a/default-user=s64",
      "userId": "01995132954552918474"
     },
     "user_tz": 420
    },
    "id": "c2e69185"
   },
   "outputs": [],
   "source": [
    "# # This adds the input layer (by specifying input dimension) AND the first hidden layer (units)\n",
    "model.add(Dense(units=16, input_dim = 11,activation='relu'))   # input of 11 columns as shown above\n",
    "# hidden layer\n",
    "model.add(Dense(units=24,activation='relu'))\n",
    "#Adding Dropout to prevent overfitting \n",
    "model.add(Dropout(0.5))\n",
    "model.add(Dense(24,activation='relu'))\n",
    "model.add(Dense(24,activation='relu'))\n",
    "# Adding the output layer\n",
    "# Notice that we do not need to specify input dim. \n",
    "# we have an output of 1 node, which is the the desired dimensions of our output (Exited or not)\n",
    "# We use the sigmoid because we want probability outcomes\n",
    "model.add(Dense(1,activation='sigmoid'))                        # binary classification Exited or not"
   ]
  },
  {
   "cell_type": "markdown",
   "id": "6sJUVi1bPQyY",
   "metadata": {
    "id": "6sJUVi1bPQyY"
   },
   "source": [
    "*   Keras layers can be added to the model\n",
    "*   It should be noted that as this is a classification problem, sigmoid layer (softmax for multi-class problems) should be added"
   ]
  },
  {
   "cell_type": "code",
   "execution_count": 39,
   "id": "a2fa5f4f",
   "metadata": {
    "executionInfo": {
     "elapsed": 2,
     "status": "ok",
     "timestamp": 1637380659002,
     "user": {
      "displayName": "Stephen Catalfio",
      "photoUrl": "https://lh3.googleusercontent.com/a/default-user=s64",
      "userId": "01995132954552918474"
     },
     "user_tz": 420
    },
    "id": "a2fa5f4f"
   },
   "outputs": [],
   "source": [
    "# Create optimizer with default learning rate\n",
    "# Compile the model\n",
    "model.compile(optimizer='adam',loss='binary_crossentropy',metrics=['accuracy'])"
   ]
  },
  {
   "cell_type": "markdown",
   "id": "bOiFRS5YPlxs",
   "metadata": {
    "id": "bOiFRS5YPlxs"
   },
   "source": [
    "*   Keras model should be \"compiled\" prior to training\n",
    "\n",
    "*   Types of loss (function) and optimizer should be designated"
   ]
  },
  {
   "cell_type": "code",
   "execution_count": 40,
   "id": "864c55f8",
   "metadata": {
    "colab": {
     "base_uri": "https://localhost:8080/"
    },
    "executionInfo": {
     "elapsed": 2,
     "status": "ok",
     "timestamp": 1637380659002,
     "user": {
      "displayName": "Stephen Catalfio",
      "photoUrl": "https://lh3.googleusercontent.com/a/default-user=s64",
      "userId": "01995132954552918474"
     },
     "user_tz": 420
    },
    "id": "864c55f8",
    "outputId": "c1c11cdb-71b0-4b2c-8d7b-4828dcef31db"
   },
   "outputs": [
    {
     "name": "stdout",
     "output_type": "stream",
     "text": [
      "Model: \"sequential\"\n",
      "_________________________________________________________________\n",
      " Layer (type)                Output Shape              Param #   \n",
      "=================================================================\n",
      " dense (Dense)               (None, 16)                192       \n",
      "                                                                 \n",
      " dense_1 (Dense)             (None, 24)                408       \n",
      "                                                                 \n",
      " dropout (Dropout)           (None, 24)                0         \n",
      "                                                                 \n",
      " dense_2 (Dense)             (None, 24)                600       \n",
      "                                                                 \n",
      " dense_3 (Dense)             (None, 24)                600       \n",
      "                                                                 \n",
      " dense_4 (Dense)             (None, 1)                 25        \n",
      "                                                                 \n",
      "=================================================================\n",
      "Total params: 1,825\n",
      "Trainable params: 1,825\n",
      "Non-trainable params: 0\n",
      "_________________________________________________________________\n"
     ]
    }
   ],
   "source": [
    "model.summary()"
   ]
  },
  {
   "cell_type": "code",
   "execution_count": 41,
   "id": "f6f7a781",
   "metadata": {
    "colab": {
     "base_uri": "https://localhost:8080/"
    },
    "executionInfo": {
     "elapsed": 21359,
     "status": "ok",
     "timestamp": 1637380680360,
     "user": {
      "displayName": "Stephen Catalfio",
      "photoUrl": "https://lh3.googleusercontent.com/a/default-user=s64",
      "userId": "01995132954552918474"
     },
     "user_tz": 420
    },
    "id": "f6f7a781",
    "outputId": "dd631194-777b-4b54-9694-171f3dfb7d2e"
   },
   "outputs": [
    {
     "name": "stdout",
     "output_type": "stream",
     "text": [
      "Epoch 1/10\n",
      "342/342 [==============================] - 2s 5ms/step - loss: 0.4956 - accuracy: 0.7984 - val_loss: 0.4667 - val_accuracy: 0.7906\n",
      "Epoch 2/10\n",
      "342/342 [==============================] - 2s 4ms/step - loss: 0.4653 - accuracy: 0.8000 - val_loss: 0.4653 - val_accuracy: 0.7906\n",
      "Epoch 3/10\n",
      "342/342 [==============================] - 2s 5ms/step - loss: 0.4537 - accuracy: 0.8000 - val_loss: 0.4547 - val_accuracy: 0.7906\n",
      "Epoch 4/10\n",
      "342/342 [==============================] - 2s 4ms/step - loss: 0.4432 - accuracy: 0.8066 - val_loss: 0.4465 - val_accuracy: 0.8000\n",
      "Epoch 5/10\n",
      "342/342 [==============================] - 2s 5ms/step - loss: 0.4382 - accuracy: 0.8061 - val_loss: 0.4379 - val_accuracy: 0.8172\n",
      "Epoch 6/10\n",
      "342/342 [==============================] - 2s 5ms/step - loss: 0.4286 - accuracy: 0.8143 - val_loss: 0.4211 - val_accuracy: 0.8172\n",
      "Epoch 7/10\n",
      "342/342 [==============================] - 2s 4ms/step - loss: 0.4208 - accuracy: 0.8195 - val_loss: 0.4167 - val_accuracy: 0.8195\n",
      "Epoch 8/10\n",
      "342/342 [==============================] - 2s 5ms/step - loss: 0.4112 - accuracy: 0.8254 - val_loss: 0.4162 - val_accuracy: 0.8289\n",
      "Epoch 9/10\n",
      "342/342 [==============================] - 2s 5ms/step - loss: 0.4008 - accuracy: 0.8285 - val_loss: 0.4006 - val_accuracy: 0.8320\n",
      "Epoch 10/10\n",
      "342/342 [==============================] - 1s 4ms/step - loss: 0.3925 - accuracy: 0.8303 - val_loss: 0.3885 - val_accuracy: 0.8414\n"
     ]
    }
   ],
   "source": [
    "#fitting the model\n",
    "history=model.fit(X_train,y_train,batch_size=15,epochs=10,validation_split=0.2)"
   ]
  },
  {
   "cell_type": "markdown",
   "id": "82lCq4AePw80",
   "metadata": {
    "id": "82lCq4AePw80"
   },
   "source": [
    "*   Training [Forward pass and Backpropagation]"
   ]
  },
  {
   "cell_type": "code",
   "execution_count": 42,
   "id": "fa81aa4a",
   "metadata": {
    "colab": {
     "base_uri": "https://localhost:8080/",
     "height": 284
    },
    "executionInfo": {
     "elapsed": 183,
     "status": "ok",
     "timestamp": 1637380680539,
     "user": {
      "displayName": "Stephen Catalfio",
      "photoUrl": "https://lh3.googleusercontent.com/a/default-user=s64",
      "userId": "01995132954552918474"
     },
     "user_tz": 420
    },
    "id": "fa81aa4a",
    "outputId": "9dcbf4ff-325f-4540-ca13-860150b9d4a6"
   },
   "outputs": [
    {
     "data": {
      "text/plain": [
       "<matplotlib.legend.Legend at 0x7fe20d63f390>"
      ]
     },
     "execution_count": 42,
     "metadata": {},
     "output_type": "execute_result"
    },
    {
     "data": {
      "image/png": "[encoded data removed]",
      "text/plain": [
       "<Figure size 432x288 with 1 Axes>"
      ]
     },
     "metadata": {
      "needs_background": "light"
     },
     "output_type": "display_data"
    }
   ],
   "source": [
    "# Capturing learning history per epoch\n",
    "hist  = pd.DataFrame(history.history)\n",
    "hist['epoch'] = history.epoch\n",
    "\n",
    "# Plotting accuracy at different epochs\n",
    "plt.plot(hist['loss'])\n",
    "plt.plot(hist['val_loss'])\n",
    "plt.legend((\"train\" , \"valid\") , loc =0)"
   ]
  },
  {
   "cell_type": "code",
   "execution_count": 43,
   "id": "ade4c4f5",
   "metadata": {
    "colab": {
     "base_uri": "https://localhost:8080/"
    },
    "executionInfo": {
     "elapsed": 392,
     "status": "ok",
     "timestamp": 1637380680929,
     "user": {
      "displayName": "Stephen Catalfio",
      "photoUrl": "https://lh3.googleusercontent.com/a/default-user=s64",
      "userId": "01995132954552918474"
     },
     "user_tz": 420
    },
    "id": "ade4c4f5",
    "outputId": "c02e7d93-4532-4b64-e5fe-926010b4f358"
   },
   "outputs": [
    {
     "name": "stdout",
     "output_type": "stream",
     "text": [
      "63/63 [==============================] - 0s 3ms/step - loss: 0.3741 - accuracy: 0.8470\n"
     ]
    }
   ],
   "source": [
    "score = model.evaluate(X_test, y_test)"
   ]
  },
  {
   "cell_type": "markdown",
   "id": "CbXS7GWCQCqb",
   "metadata": {
    "id": "CbXS7GWCQCqb"
   },
   "source": [
    "**Evaluation**\n",
    "\n",
    "Keras model can be evaluated with evaluate()function\n",
    "\n",
    "Evaluation results are contained in a list\n",
    "\n",
    "*   The model achieves an accuracy rate of .847.  This is an average rate.  Let's see if we can improve with new models."
   ]
  },
  {
   "cell_type": "code",
   "execution_count": 44,
   "id": "8d76d154",
   "metadata": {
    "colab": {
     "base_uri": "https://localhost:8080/"
    },
    "executionInfo": {
     "elapsed": 3,
     "status": "ok",
     "timestamp": 1637380680930,
     "user": {
      "displayName": "Stephen Catalfio",
      "photoUrl": "https://lh3.googleusercontent.com/a/default-user=s64",
      "userId": "01995132954552918474"
     },
     "user_tz": 420
    },
    "id": "8d76d154",
    "outputId": "d4abaa99-d74b-479c-9ec7-7852be38da96"
   },
   "outputs": [
    {
     "name": "stdout",
     "output_type": "stream",
     "text": [
      "[0.3740735948085785, 0.847000002861023]\n"
     ]
    }
   ],
   "source": [
    "print(score)"
   ]
  },
  {
   "cell_type": "code",
   "execution_count": 45,
   "id": "C8-ZSOh8HONy",
   "metadata": {
    "executionInfo": {
     "elapsed": 201,
     "status": "ok",
     "timestamp": 1637380681129,
     "user": {
      "displayName": "Stephen Catalfio",
      "photoUrl": "https://lh3.googleusercontent.com/a/default-user=s64",
      "userId": "01995132954552918474"
     },
     "user_tz": 420
    },
    "id": "C8-ZSOh8HONy"
   },
   "outputs": [],
   "source": [
    "def make_confusion_matrix(cf,\n",
    "                          group_names=None,\n",
    "                          categories='auto',\n",
    "                          count=True,\n",
    "                          percent=True,\n",
    "                          cbar=True,\n",
    "                          xyticks=True,\n",
    "                          xyplotlabels=True,\n",
    "                          sum_stats=True,\n",
    "                          figsize=None,\n",
    "                          cmap='Blues',\n",
    "                          title=None):\n",
    "    '''\n",
    "    This function will make a pretty plot of an sklearn Confusion Matrix cm using a Seaborn heatmap visualization.\n",
    "    Arguments\n",
    "    '''\n",
    "\n",
    "\n",
    "    # CODE TO GENERATE TEXT INSIDE EACH SQUARE\n",
    "    blanks = ['' for i in range(cf.size)]\n",
    "\n",
    "    if group_names and len(group_names)==cf.size:\n",
    "        group_labels = [\"{}\\n\".format(value) for value in group_names]\n",
    "    else:\n",
    "        group_labels = blanks\n",
    "\n",
    "    if count:\n",
    "        group_counts = [\"{0:0.0f}\\n\".format(value) for value in cf.flatten()]\n",
    "    else:\n",
    "        group_counts = blanks\n",
    "\n",
    "    if percent:\n",
    "        group_percentages = [\"{0:.2%}\".format(value) for value in cf.flatten()/np.sum(cf)]\n",
    "    else:\n",
    "        group_percentages = blanks\n",
    "\n",
    "    box_labels = [f\"{v1}{v2}{v3}\".strip() for v1, v2, v3 in zip(group_labels,group_counts,group_percentages)]\n",
    "    box_labels = np.asarray(box_labels).reshape(cf.shape[0],cf.shape[1])\n",
    "\n",
    "\n",
    "    # CODE TO GENERATE SUMMARY STATISTICS & TEXT FOR SUMMARY STATS\n",
    "    if sum_stats:\n",
    "        #Accuracy is sum of diagonal divided by total observations\n",
    "        accuracy  = np.trace(cf) / float(np.sum(cf))\n",
    "\n",
    "        #if it is a binary confusion matrix, show some more stats\n",
    "        if len(cf)==2:\n",
    "            #Metrics for Binary Confusion Matrices\n",
    "            precision = cf[1,1] / sum(cf[:,1])\n",
    "            recall    = cf[1,1] / sum(cf[1,:])\n",
    "            f1_score  = 2*precision*recall / (precision + recall)\n",
    "            stats_text = \"\\n\\nAccuracy={:0.3f}\\nPrecision={:0.3f}\\nRecall={:0.3f}\\nF1 Score={:0.3f}\".format(\n",
    "                accuracy,precision,recall,f1_score)\n",
    "        else:\n",
    "            stats_text = \"\\n\\nAccuracy={:0.3f}\".format(accuracy)\n",
    "    else:\n",
    "        stats_text = \"\"\n",
    "\n",
    "\n",
    "    # SET FIGURE PARAMETERS ACCORDING TO OTHER ARGUMENTS\n",
    "    if figsize==None:\n",
    "        #Get default figure size if not set\n",
    "        figsize = plt.rcParams.get('figure.figsize')\n",
    "\n",
    "    if xyticks==False:\n",
    "        #Do not show categories if xyticks is False\n",
    "        categories=False\n",
    "\n",
    "\n",
    "    # MAKE THE HEATMAP VISUALIZATION\n",
    "    plt.figure(figsize=figsize)\n",
    "    sns.heatmap(cf,annot=box_labels,fmt=\"\",cmap=cmap,cbar=cbar,xticklabels=categories,yticklabels=categories)\n",
    "\n",
    "    if xyplotlabels:\n",
    "        plt.ylabel('True label')\n",
    "        plt.xlabel('Predicted label' + stats_text)\n",
    "    else:\n",
    "        plt.xlabel(stats_text)\n",
    "    \n",
    "    if title:\n",
    "        plt.title(title)"
   ]
  },
  {
   "cell_type": "code",
   "execution_count": 46,
   "id": "4bbe5594",
   "metadata": {
    "colab": {
     "base_uri": "https://localhost:8080/",
     "height": 338
    },
    "executionInfo": {
     "elapsed": 996,
     "status": "ok",
     "timestamp": 1637380682124,
     "user": {
      "displayName": "Stephen Catalfio",
      "photoUrl": "https://lh3.googleusercontent.com/a/default-user=s64",
      "userId": "01995132954552918474"
     },
     "user_tz": 420
    },
    "id": "4bbe5594",
    "outputId": "83d04019-693d-4085-b6ed-a185d07f9fa4"
   },
   "outputs": [
    {
     "data": {
      "image/png": "[encoded data removed]",
      "text/plain": [
       "<Figure size 432x288 with 2 Axes>"
      ]
     },
     "metadata": {
      "needs_background": "light"
     },
     "output_type": "display_data"
    }
   ],
   "source": [
    "## Confusion Matrix on unsee test set\n",
    "import seaborn as sn\n",
    "y_pred1 = model.predict(X_test)\n",
    "for i in range(len(y_test)):\n",
    "    if y_pred1[i]>0.5:\n",
    "        y_pred1[i]=1 \n",
    "    else:\n",
    "        y_pred1[i]=0\n",
    "\n",
    "\n",
    "\n",
    "cm2=confusion_matrix(y_test, y_pred1)\n",
    "labels = ['True Negative','False Positive','False Negative','True Positive']\n",
    "categories = [ 'Not_Exited','Exited']\n",
    "make_confusion_matrix(cm2, \n",
    "                      group_names=labels,\n",
    "                      categories=categories, \n",
    "                      cmap='Blues')"
   ]
  },
  {
   "cell_type": "markdown",
   "id": "3QyQ8iP9Q0I2",
   "metadata": {
    "id": "3QyQ8iP9Q0I2"
   },
   "source": [
    "*   52 regular transactions are detected as potentially incorrect by the model. These are false positive. This number is negligible.\n",
    "\n",
    "*   There are 254 False negatives.  This indicates too much loss for our model.\n",
    "\n",
    "Conclusion:\n",
    "\n",
    "*   We must find ways to further reduce the number of false negative."
   ]
  },
  {
   "cell_type": "markdown",
   "id": "pi9dKd6qR_XV",
   "metadata": {
    "id": "pi9dKd6qR_XV"
   },
   "source": [
    "### **Model Improvement - Let's try another architecture to get the better Recall**"
   ]
  },
  {
   "cell_type": "markdown",
   "id": "_CTtYHZ-R9jZ",
   "metadata": {
    "id": "_CTtYHZ-R9jZ"
   },
   "source": [
    "**Early stopping:**\n",
    "\n",
    "*   During training, the model is evaluated on a holdout validation dataset after each epoch. If the performance of the model on the validation dataset starts to degrade or no improvement (e.g. loss begins to increase or accuracy begins to decrease), then the training process is stopped after the certian interations.The model at the time that training is stopped is then used and is known to have good generalization performance.\n",
    "\n",
    "*   This procedure is called “early stopping” and is perhaps one of the oldest and most widely used forms of neural network regularization.\n",
    "\n",
    "**Weight Initialization:**\n",
    "\n",
    "*   Weight initialization is an important consideration in the design of a neural network model.\n",
    "\n",
    "*   The nodes in neural networks are composed of parameters referred to as weights used to calculate a weighted sum of the inputs.\n",
    "\n",
    "*   Neural network models are fit using an optimization algorithm called stochastic gradient descent that incrementally changes the network weights to minimize a loss function, hopefully resulting in a set of weights for the mode that is capable of making useful predictions.\n",
    "\n",
    "*   This optimization algorithm requires a starting point in the space of possible weight values from which to begin the optimization process. Weight initialization is a procedure to set the weights of a neural network to small random values that define the starting point for the optimization (learning or training) of the neural network model.\n",
    "\n",
    "**There are many WI techniques as follows:**\n",
    "\n",
    "1) Random normal initialization\n",
    "\n",
    "2) Random Uniform initialization\n",
    "\n",
    "3) Xaviour Initialization\n",
    "\n",
    "4) He Initialization"
   ]
  },
  {
   "cell_type": "code",
   "execution_count": 47,
   "id": "53853dca",
   "metadata": {
    "colab": {
     "base_uri": "https://localhost:8080/"
    },
    "executionInfo": {
     "elapsed": 11645,
     "status": "ok",
     "timestamp": 1637380693767,
     "user": {
      "displayName": "Stephen Catalfio",
      "photoUrl": "https://lh3.googleusercontent.com/a/default-user=s64",
      "userId": "01995132954552918474"
     },
     "user_tz": 420
    },
    "id": "53853dca",
    "outputId": "90156257-ca11-4629-c0a8-a64b6261aa48"
   },
   "outputs": [
    {
     "name": "stdout",
     "output_type": "stream",
     "text": [
      "Epoch 1/157\n",
      "8/8 [==============================] - 1s 27ms/step - loss: 1.4802 - accuracy: 0.2811 - val_loss: 0.7999 - val_accuracy: 0.4016\n",
      "Epoch 2/157\n",
      "8/8 [==============================] - 0s 9ms/step - loss: 0.8365 - accuracy: 0.5227 - val_loss: 0.5441 - val_accuracy: 0.7898\n",
      "Epoch 3/157\n",
      "8/8 [==============================] - 0s 7ms/step - loss: 0.6351 - accuracy: 0.7129 - val_loss: 0.5498 - val_accuracy: 0.7906\n",
      "Epoch 4/157\n",
      "8/8 [==============================] - 0s 8ms/step - loss: 0.5988 - accuracy: 0.7688 - val_loss: 0.5641 - val_accuracy: 0.7906\n",
      "Epoch 5/157\n",
      "8/8 [==============================] - 0s 7ms/step - loss: 0.5820 - accuracy: 0.7824 - val_loss: 0.5466 - val_accuracy: 0.7906\n",
      "Epoch 6/157\n",
      "8/8 [==============================] - 0s 9ms/step - loss: 0.5828 - accuracy: 0.7770 - val_loss: 0.5222 - val_accuracy: 0.7906\n",
      "Epoch 7/157\n",
      "8/8 [==============================] - 0s 8ms/step - loss: 0.5447 - accuracy: 0.7781 - val_loss: 0.5078 - val_accuracy: 0.7906\n",
      "Epoch 8/157\n",
      "8/8 [==============================] - 0s 10ms/step - loss: 0.5442 - accuracy: 0.7703 - val_loss: 0.5022 - val_accuracy: 0.7906\n",
      "Epoch 9/157\n",
      "8/8 [==============================] - 0s 8ms/step - loss: 0.5385 - accuracy: 0.7686 - val_loss: 0.4995 - val_accuracy: 0.7906\n",
      "Epoch 10/157\n",
      "8/8 [==============================] - 0s 8ms/step - loss: 0.5328 - accuracy: 0.7750 - val_loss: 0.4992 - val_accuracy: 0.7906\n",
      "Epoch 11/157\n",
      "8/8 [==============================] - 0s 8ms/step - loss: 0.5238 - accuracy: 0.7844 - val_loss: 0.4979 - val_accuracy: 0.7906\n",
      "Epoch 12/157\n",
      "8/8 [==============================] - 0s 8ms/step - loss: 0.5177 - accuracy: 0.7881 - val_loss: 0.4963 - val_accuracy: 0.7906\n",
      "Epoch 13/157\n",
      "8/8 [==============================] - 0s 7ms/step - loss: 0.5167 - accuracy: 0.7832 - val_loss: 0.4950 - val_accuracy: 0.7906\n",
      "Epoch 14/157\n",
      "8/8 [==============================] - 0s 8ms/step - loss: 0.5163 - accuracy: 0.7891 - val_loss: 0.4933 - val_accuracy: 0.7906\n",
      "Epoch 15/157\n",
      "8/8 [==============================] - 0s 8ms/step - loss: 0.5123 - accuracy: 0.7908 - val_loss: 0.4915 - val_accuracy: 0.7906\n",
      "Epoch 16/157\n",
      "8/8 [==============================] - 0s 8ms/step - loss: 0.5135 - accuracy: 0.7871 - val_loss: 0.4903 - val_accuracy: 0.7906\n",
      "Epoch 17/157\n",
      "8/8 [==============================] - 0s 9ms/step - loss: 0.5023 - accuracy: 0.7937 - val_loss: 0.4892 - val_accuracy: 0.7906\n",
      "Epoch 18/157\n",
      "8/8 [==============================] - 0s 7ms/step - loss: 0.5039 - accuracy: 0.7893 - val_loss: 0.4881 - val_accuracy: 0.7906\n",
      "Epoch 19/157\n",
      "8/8 [==============================] - 0s 8ms/step - loss: 0.5005 - accuracy: 0.7908 - val_loss: 0.4862 - val_accuracy: 0.7906\n",
      "Epoch 20/157\n",
      "8/8 [==============================] - 0s 7ms/step - loss: 0.4951 - accuracy: 0.7863 - val_loss: 0.4842 - val_accuracy: 0.7906\n",
      "Epoch 21/157\n",
      "8/8 [==============================] - 0s 11ms/step - loss: 0.5053 - accuracy: 0.7916 - val_loss: 0.4830 - val_accuracy: 0.7906\n",
      "Epoch 22/157\n",
      "8/8 [==============================] - 0s 7ms/step - loss: 0.5019 - accuracy: 0.7900 - val_loss: 0.4817 - val_accuracy: 0.7906\n",
      "Epoch 23/157\n",
      "8/8 [==============================] - 0s 8ms/step - loss: 0.4990 - accuracy: 0.7926 - val_loss: 0.4805 - val_accuracy: 0.7906\n",
      "Epoch 24/157\n",
      "8/8 [==============================] - 0s 7ms/step - loss: 0.4830 - accuracy: 0.7965 - val_loss: 0.4791 - val_accuracy: 0.7906\n",
      "Epoch 25/157\n",
      "8/8 [==============================] - 0s 7ms/step - loss: 0.4848 - accuracy: 0.7932 - val_loss: 0.4776 - val_accuracy: 0.7914\n",
      "Epoch 26/157\n",
      "8/8 [==============================] - 0s 7ms/step - loss: 0.4901 - accuracy: 0.7934 - val_loss: 0.4756 - val_accuracy: 0.7914\n",
      "Epoch 27/157\n",
      "8/8 [==============================] - 0s 9ms/step - loss: 0.4859 - accuracy: 0.7936 - val_loss: 0.4740 - val_accuracy: 0.7914\n",
      "Epoch 28/157\n",
      "8/8 [==============================] - 0s 10ms/step - loss: 0.4780 - accuracy: 0.7961 - val_loss: 0.4724 - val_accuracy: 0.7922\n",
      "Epoch 29/157\n",
      "8/8 [==============================] - 0s 9ms/step - loss: 0.4800 - accuracy: 0.8002 - val_loss: 0.4709 - val_accuracy: 0.7922\n",
      "Epoch 30/157\n",
      "8/8 [==============================] - 0s 7ms/step - loss: 0.4776 - accuracy: 0.7984 - val_loss: 0.4691 - val_accuracy: 0.7922\n",
      "Epoch 31/157\n",
      "8/8 [==============================] - 0s 8ms/step - loss: 0.4835 - accuracy: 0.7959 - val_loss: 0.4674 - val_accuracy: 0.7922\n",
      "Epoch 32/157\n",
      "8/8 [==============================] - 0s 7ms/step - loss: 0.4818 - accuracy: 0.7988 - val_loss: 0.4656 - val_accuracy: 0.7922\n",
      "Epoch 33/157\n",
      "8/8 [==============================] - 0s 8ms/step - loss: 0.4766 - accuracy: 0.7988 - val_loss: 0.4635 - val_accuracy: 0.7937\n",
      "Epoch 34/157\n",
      "8/8 [==============================] - 0s 9ms/step - loss: 0.4793 - accuracy: 0.7971 - val_loss: 0.4618 - val_accuracy: 0.7937\n",
      "Epoch 35/157\n",
      "8/8 [==============================] - 0s 8ms/step - loss: 0.4725 - accuracy: 0.7969 - val_loss: 0.4602 - val_accuracy: 0.7937\n",
      "Epoch 36/157\n",
      "8/8 [==============================] - 0s 8ms/step - loss: 0.4741 - accuracy: 0.8027 - val_loss: 0.4590 - val_accuracy: 0.7969\n",
      "Epoch 37/157\n",
      "8/8 [==============================] - 0s 7ms/step - loss: 0.4726 - accuracy: 0.7980 - val_loss: 0.4578 - val_accuracy: 0.7977\n",
      "Epoch 38/157\n",
      "8/8 [==============================] - 0s 8ms/step - loss: 0.4656 - accuracy: 0.8000 - val_loss: 0.4568 - val_accuracy: 0.7969\n",
      "Epoch 39/157\n",
      "8/8 [==============================] - 0s 8ms/step - loss: 0.4733 - accuracy: 0.7977 - val_loss: 0.4552 - val_accuracy: 0.7969\n",
      "Epoch 40/157\n",
      "8/8 [==============================] - 0s 8ms/step - loss: 0.4653 - accuracy: 0.7992 - val_loss: 0.4533 - val_accuracy: 0.7992\n",
      "Epoch 41/157\n",
      "8/8 [==============================] - 0s 8ms/step - loss: 0.4654 - accuracy: 0.8004 - val_loss: 0.4517 - val_accuracy: 0.7992\n",
      "Epoch 42/157\n",
      "8/8 [==============================] - 0s 8ms/step - loss: 0.4629 - accuracy: 0.8012 - val_loss: 0.4496 - val_accuracy: 0.8000\n",
      "Epoch 43/157\n",
      "8/8 [==============================] - 0s 8ms/step - loss: 0.4617 - accuracy: 0.7975 - val_loss: 0.4482 - val_accuracy: 0.8000\n",
      "Epoch 44/157\n",
      "8/8 [==============================] - 0s 9ms/step - loss: 0.4605 - accuracy: 0.8016 - val_loss: 0.4478 - val_accuracy: 0.8016\n",
      "Epoch 45/157\n",
      "8/8 [==============================] - 0s 7ms/step - loss: 0.4652 - accuracy: 0.8006 - val_loss: 0.4468 - val_accuracy: 0.8023\n",
      "Epoch 46/157\n",
      "8/8 [==============================] - 0s 8ms/step - loss: 0.4586 - accuracy: 0.8062 - val_loss: 0.4456 - val_accuracy: 0.8039\n",
      "Epoch 47/157\n",
      "8/8 [==============================] - 0s 8ms/step - loss: 0.4645 - accuracy: 0.7984 - val_loss: 0.4451 - val_accuracy: 0.8047\n",
      "Epoch 48/157\n",
      "8/8 [==============================] - 0s 8ms/step - loss: 0.4549 - accuracy: 0.8066 - val_loss: 0.4440 - val_accuracy: 0.8047\n",
      "Epoch 49/157\n",
      "8/8 [==============================] - 0s 9ms/step - loss: 0.4614 - accuracy: 0.8002 - val_loss: 0.4430 - val_accuracy: 0.8062\n",
      "Epoch 50/157\n",
      "8/8 [==============================] - 0s 8ms/step - loss: 0.4551 - accuracy: 0.8031 - val_loss: 0.4424 - val_accuracy: 0.8055\n",
      "Epoch 51/157\n",
      "8/8 [==============================] - 0s 8ms/step - loss: 0.4628 - accuracy: 0.8047 - val_loss: 0.4416 - val_accuracy: 0.8094\n",
      "Epoch 52/157\n",
      "8/8 [==============================] - 0s 10ms/step - loss: 0.4559 - accuracy: 0.8053 - val_loss: 0.4410 - val_accuracy: 0.8094\n",
      "Epoch 53/157\n",
      "8/8 [==============================] - 0s 8ms/step - loss: 0.4547 - accuracy: 0.8033 - val_loss: 0.4402 - val_accuracy: 0.8094\n",
      "Epoch 54/157\n",
      "8/8 [==============================] - 0s 8ms/step - loss: 0.4548 - accuracy: 0.8021 - val_loss: 0.4397 - val_accuracy: 0.8102\n",
      "Epoch 55/157\n",
      "8/8 [==============================] - 0s 8ms/step - loss: 0.4530 - accuracy: 0.8109 - val_loss: 0.4383 - val_accuracy: 0.8125\n",
      "Epoch 56/157\n",
      "8/8 [==============================] - 0s 8ms/step - loss: 0.4522 - accuracy: 0.8068 - val_loss: 0.4374 - val_accuracy: 0.8125\n",
      "Epoch 57/157\n",
      "8/8 [==============================] - 0s 8ms/step - loss: 0.4545 - accuracy: 0.8047 - val_loss: 0.4363 - val_accuracy: 0.8141\n",
      "Epoch 58/157\n",
      "8/8 [==============================] - 0s 9ms/step - loss: 0.4519 - accuracy: 0.8055 - val_loss: 0.4354 - val_accuracy: 0.8117\n",
      "Epoch 59/157\n",
      "8/8 [==============================] - 0s 7ms/step - loss: 0.4531 - accuracy: 0.8107 - val_loss: 0.4359 - val_accuracy: 0.8117\n",
      "Epoch 60/157\n",
      "8/8 [==============================] - 0s 7ms/step - loss: 0.4446 - accuracy: 0.8127 - val_loss: 0.4350 - val_accuracy: 0.8117\n",
      "Epoch 61/157\n",
      "8/8 [==============================] - 0s 9ms/step - loss: 0.4443 - accuracy: 0.8086 - val_loss: 0.4339 - val_accuracy: 0.8141\n",
      "Epoch 62/157\n",
      "8/8 [==============================] - 0s 8ms/step - loss: 0.4474 - accuracy: 0.8059 - val_loss: 0.4332 - val_accuracy: 0.8133\n",
      "Epoch 63/157\n",
      "8/8 [==============================] - 0s 8ms/step - loss: 0.4485 - accuracy: 0.8100 - val_loss: 0.4326 - val_accuracy: 0.8148\n",
      "Epoch 64/157\n",
      "8/8 [==============================] - 0s 7ms/step - loss: 0.4443 - accuracy: 0.8127 - val_loss: 0.4319 - val_accuracy: 0.8148\n",
      "Epoch 65/157\n",
      "8/8 [==============================] - 0s 7ms/step - loss: 0.4466 - accuracy: 0.8102 - val_loss: 0.4321 - val_accuracy: 0.8148\n",
      "Epoch 66/157\n",
      "8/8 [==============================] - 0s 8ms/step - loss: 0.4417 - accuracy: 0.8094 - val_loss: 0.4317 - val_accuracy: 0.8172\n",
      "Epoch 67/157\n",
      "8/8 [==============================] - 0s 7ms/step - loss: 0.4445 - accuracy: 0.8111 - val_loss: 0.4316 - val_accuracy: 0.8180\n",
      "Epoch 68/157\n",
      "8/8 [==============================] - 0s 8ms/step - loss: 0.4447 - accuracy: 0.8068 - val_loss: 0.4311 - val_accuracy: 0.8180\n",
      "Epoch 69/157\n",
      "8/8 [==============================] - 0s 9ms/step - loss: 0.4448 - accuracy: 0.8098 - val_loss: 0.4302 - val_accuracy: 0.8172\n",
      "Epoch 70/157\n",
      "8/8 [==============================] - 0s 8ms/step - loss: 0.4459 - accuracy: 0.8109 - val_loss: 0.4294 - val_accuracy: 0.8188\n",
      "Epoch 71/157\n",
      "8/8 [==============================] - 0s 8ms/step - loss: 0.4372 - accuracy: 0.8174 - val_loss: 0.4281 - val_accuracy: 0.8195\n",
      "Epoch 72/157\n",
      "8/8 [==============================] - 0s 10ms/step - loss: 0.4401 - accuracy: 0.8107 - val_loss: 0.4268 - val_accuracy: 0.8195\n",
      "Epoch 73/157\n",
      "8/8 [==============================] - 0s 9ms/step - loss: 0.4433 - accuracy: 0.8098 - val_loss: 0.4266 - val_accuracy: 0.8188\n",
      "Epoch 74/157\n",
      "8/8 [==============================] - 0s 7ms/step - loss: 0.4424 - accuracy: 0.8096 - val_loss: 0.4263 - val_accuracy: 0.8211\n",
      "Epoch 75/157\n",
      "8/8 [==============================] - 0s 8ms/step - loss: 0.4413 - accuracy: 0.8117 - val_loss: 0.4257 - val_accuracy: 0.8219\n",
      "Epoch 76/157\n",
      "8/8 [==============================] - 0s 7ms/step - loss: 0.4334 - accuracy: 0.8121 - val_loss: 0.4248 - val_accuracy: 0.8203\n",
      "Epoch 77/157\n",
      "8/8 [==============================] - 0s 8ms/step - loss: 0.4366 - accuracy: 0.8143 - val_loss: 0.4238 - val_accuracy: 0.8203\n",
      "Epoch 78/157\n",
      "8/8 [==============================] - 0s 8ms/step - loss: 0.4360 - accuracy: 0.8168 - val_loss: 0.4229 - val_accuracy: 0.8211\n",
      "Epoch 79/157\n",
      "8/8 [==============================] - 0s 7ms/step - loss: 0.4337 - accuracy: 0.8201 - val_loss: 0.4227 - val_accuracy: 0.8234\n",
      "Epoch 80/157\n",
      "8/8 [==============================] - 0s 8ms/step - loss: 0.4333 - accuracy: 0.8115 - val_loss: 0.4217 - val_accuracy: 0.8234\n",
      "Epoch 81/157\n",
      "8/8 [==============================] - 0s 8ms/step - loss: 0.4286 - accuracy: 0.8203 - val_loss: 0.4206 - val_accuracy: 0.8242\n",
      "Epoch 82/157\n",
      "8/8 [==============================] - 0s 9ms/step - loss: 0.4387 - accuracy: 0.8135 - val_loss: 0.4195 - val_accuracy: 0.8227\n",
      "Epoch 83/157\n",
      "8/8 [==============================] - 0s 7ms/step - loss: 0.4317 - accuracy: 0.8168 - val_loss: 0.4192 - val_accuracy: 0.8266\n",
      "Epoch 84/157\n",
      "8/8 [==============================] - 0s 9ms/step - loss: 0.4393 - accuracy: 0.8092 - val_loss: 0.4183 - val_accuracy: 0.8281\n",
      "Epoch 85/157\n",
      "8/8 [==============================] - 0s 8ms/step - loss: 0.4285 - accuracy: 0.8186 - val_loss: 0.4181 - val_accuracy: 0.8281\n",
      "Epoch 86/157\n",
      "8/8 [==============================] - 0s 9ms/step - loss: 0.4300 - accuracy: 0.8166 - val_loss: 0.4176 - val_accuracy: 0.8297\n",
      "Epoch 87/157\n",
      "8/8 [==============================] - 0s 9ms/step - loss: 0.4275 - accuracy: 0.8184 - val_loss: 0.4170 - val_accuracy: 0.8281\n",
      "Epoch 88/157\n",
      "8/8 [==============================] - 0s 8ms/step - loss: 0.4252 - accuracy: 0.8219 - val_loss: 0.4166 - val_accuracy: 0.8289\n",
      "Epoch 89/157\n",
      "8/8 [==============================] - 0s 8ms/step - loss: 0.4208 - accuracy: 0.8178 - val_loss: 0.4157 - val_accuracy: 0.8289\n",
      "Epoch 90/157\n",
      "8/8 [==============================] - 0s 7ms/step - loss: 0.4256 - accuracy: 0.8178 - val_loss: 0.4144 - val_accuracy: 0.8313\n",
      "Epoch 91/157\n",
      "8/8 [==============================] - 0s 7ms/step - loss: 0.4260 - accuracy: 0.8186 - val_loss: 0.4142 - val_accuracy: 0.8320\n",
      "Epoch 92/157\n",
      "8/8 [==============================] - 0s 8ms/step - loss: 0.4255 - accuracy: 0.8203 - val_loss: 0.4143 - val_accuracy: 0.8320\n",
      "Epoch 93/157\n",
      "8/8 [==============================] - 0s 7ms/step - loss: 0.4258 - accuracy: 0.8160 - val_loss: 0.4140 - val_accuracy: 0.8328\n",
      "Epoch 94/157\n",
      "8/8 [==============================] - 0s 8ms/step - loss: 0.4257 - accuracy: 0.8195 - val_loss: 0.4137 - val_accuracy: 0.8328\n",
      "Epoch 95/157\n",
      "8/8 [==============================] - 0s 8ms/step - loss: 0.4290 - accuracy: 0.8158 - val_loss: 0.4127 - val_accuracy: 0.8320\n",
      "Epoch 96/157\n",
      "8/8 [==============================] - 0s 8ms/step - loss: 0.4230 - accuracy: 0.8217 - val_loss: 0.4119 - val_accuracy: 0.8297\n",
      "Epoch 97/157\n",
      "8/8 [==============================] - 0s 7ms/step - loss: 0.4314 - accuracy: 0.8164 - val_loss: 0.4114 - val_accuracy: 0.8305\n",
      "Epoch 98/157\n",
      "8/8 [==============================] - 0s 10ms/step - loss: 0.4270 - accuracy: 0.8164 - val_loss: 0.4114 - val_accuracy: 0.8320\n",
      "Epoch 99/157\n",
      "8/8 [==============================] - 0s 8ms/step - loss: 0.4215 - accuracy: 0.8199 - val_loss: 0.4110 - val_accuracy: 0.8313\n",
      "Epoch 100/157\n",
      "8/8 [==============================] - 0s 7ms/step - loss: 0.4242 - accuracy: 0.8201 - val_loss: 0.4104 - val_accuracy: 0.8313\n",
      "Epoch 101/157\n",
      "8/8 [==============================] - 0s 8ms/step - loss: 0.4205 - accuracy: 0.8191 - val_loss: 0.4096 - val_accuracy: 0.8305\n",
      "Epoch 102/157\n",
      "8/8 [==============================] - 0s 9ms/step - loss: 0.4197 - accuracy: 0.8229 - val_loss: 0.4089 - val_accuracy: 0.8305\n",
      "Epoch 103/157\n",
      "8/8 [==============================] - 0s 8ms/step - loss: 0.4162 - accuracy: 0.8232 - val_loss: 0.4075 - val_accuracy: 0.8313\n",
      "Epoch 104/157\n",
      "8/8 [==============================] - 0s 7ms/step - loss: 0.4156 - accuracy: 0.8240 - val_loss: 0.4057 - val_accuracy: 0.8320\n",
      "Epoch 105/157\n",
      "8/8 [==============================] - 0s 9ms/step - loss: 0.4226 - accuracy: 0.8178 - val_loss: 0.4049 - val_accuracy: 0.8313\n",
      "Epoch 106/157\n",
      "8/8 [==============================] - 0s 7ms/step - loss: 0.4226 - accuracy: 0.8189 - val_loss: 0.4043 - val_accuracy: 0.8320\n",
      "Epoch 107/157\n",
      "8/8 [==============================] - 0s 8ms/step - loss: 0.4181 - accuracy: 0.8205 - val_loss: 0.4041 - val_accuracy: 0.8313\n",
      "Epoch 108/157\n",
      "8/8 [==============================] - 0s 8ms/step - loss: 0.4163 - accuracy: 0.8234 - val_loss: 0.4036 - val_accuracy: 0.8328\n",
      "Epoch 109/157\n",
      "8/8 [==============================] - 0s 7ms/step - loss: 0.4115 - accuracy: 0.8270 - val_loss: 0.4028 - val_accuracy: 0.8336\n",
      "Epoch 110/157\n",
      "8/8 [==============================] - 0s 8ms/step - loss: 0.4139 - accuracy: 0.8225 - val_loss: 0.4023 - val_accuracy: 0.8344\n",
      "Epoch 111/157\n",
      "8/8 [==============================] - 0s 7ms/step - loss: 0.4137 - accuracy: 0.8225 - val_loss: 0.4014 - val_accuracy: 0.8359\n",
      "Epoch 112/157\n",
      "8/8 [==============================] - 0s 8ms/step - loss: 0.4173 - accuracy: 0.8252 - val_loss: 0.4006 - val_accuracy: 0.8344\n",
      "Epoch 113/157\n",
      "8/8 [==============================] - 0s 7ms/step - loss: 0.4103 - accuracy: 0.8244 - val_loss: 0.3993 - val_accuracy: 0.8336\n",
      "Epoch 114/157\n",
      "8/8 [==============================] - 0s 8ms/step - loss: 0.4103 - accuracy: 0.8197 - val_loss: 0.3978 - val_accuracy: 0.8336\n",
      "Epoch 115/157\n",
      "8/8 [==============================] - 0s 7ms/step - loss: 0.4115 - accuracy: 0.8273 - val_loss: 0.3964 - val_accuracy: 0.8352\n",
      "Epoch 116/157\n",
      "8/8 [==============================] - 0s 8ms/step - loss: 0.4109 - accuracy: 0.8268 - val_loss: 0.3956 - val_accuracy: 0.8344\n",
      "Epoch 117/157\n",
      "8/8 [==============================] - 0s 9ms/step - loss: 0.4092 - accuracy: 0.8287 - val_loss: 0.3956 - val_accuracy: 0.8352\n",
      "Epoch 118/157\n",
      "8/8 [==============================] - 0s 8ms/step - loss: 0.4105 - accuracy: 0.8258 - val_loss: 0.3951 - val_accuracy: 0.8352\n",
      "Epoch 119/157\n",
      "8/8 [==============================] - 0s 7ms/step - loss: 0.4066 - accuracy: 0.8283 - val_loss: 0.3957 - val_accuracy: 0.8375\n",
      "Epoch 120/157\n",
      "8/8 [==============================] - 0s 7ms/step - loss: 0.4090 - accuracy: 0.8258 - val_loss: 0.3956 - val_accuracy: 0.8375\n",
      "Epoch 121/157\n",
      "8/8 [==============================] - 0s 9ms/step - loss: 0.3995 - accuracy: 0.8324 - val_loss: 0.3947 - val_accuracy: 0.8375\n",
      "Epoch 122/157\n",
      "8/8 [==============================] - 0s 8ms/step - loss: 0.4043 - accuracy: 0.8299 - val_loss: 0.3935 - val_accuracy: 0.8398\n",
      "Epoch 123/157\n",
      "8/8 [==============================] - 0s 8ms/step - loss: 0.4057 - accuracy: 0.8311 - val_loss: 0.3926 - val_accuracy: 0.8398\n",
      "Epoch 124/157\n",
      "8/8 [==============================] - 0s 8ms/step - loss: 0.3955 - accuracy: 0.8348 - val_loss: 0.3911 - val_accuracy: 0.8391\n",
      "Epoch 125/157\n",
      "8/8 [==============================] - 0s 7ms/step - loss: 0.3978 - accuracy: 0.8322 - val_loss: 0.3900 - val_accuracy: 0.8391\n",
      "Epoch 126/157\n",
      "8/8 [==============================] - 0s 9ms/step - loss: 0.4011 - accuracy: 0.8336 - val_loss: 0.3891 - val_accuracy: 0.8391\n",
      "Epoch 127/157\n",
      "8/8 [==============================] - 0s 8ms/step - loss: 0.3987 - accuracy: 0.8357 - val_loss: 0.3889 - val_accuracy: 0.8391\n",
      "Epoch 128/157\n",
      "8/8 [==============================] - 0s 8ms/step - loss: 0.4021 - accuracy: 0.8352 - val_loss: 0.3893 - val_accuracy: 0.8383\n",
      "Epoch 129/157\n",
      "8/8 [==============================] - 0s 8ms/step - loss: 0.4041 - accuracy: 0.8301 - val_loss: 0.3890 - val_accuracy: 0.8375\n",
      "Epoch 130/157\n",
      "8/8 [==============================] - 0s 8ms/step - loss: 0.3935 - accuracy: 0.8316 - val_loss: 0.3884 - val_accuracy: 0.8391\n",
      "Epoch 131/157\n",
      "8/8 [==============================] - 0s 9ms/step - loss: 0.3959 - accuracy: 0.8346 - val_loss: 0.3871 - val_accuracy: 0.8391\n",
      "Epoch 132/157\n",
      "8/8 [==============================] - 0s 8ms/step - loss: 0.3989 - accuracy: 0.8314 - val_loss: 0.3866 - val_accuracy: 0.8398\n",
      "Epoch 133/157\n",
      "8/8 [==============================] - 0s 8ms/step - loss: 0.3975 - accuracy: 0.8355 - val_loss: 0.3853 - val_accuracy: 0.8422\n",
      "Epoch 134/157\n",
      "8/8 [==============================] - 0s 8ms/step - loss: 0.3926 - accuracy: 0.8328 - val_loss: 0.3845 - val_accuracy: 0.8445\n",
      "Epoch 135/157\n",
      "8/8 [==============================] - 0s 8ms/step - loss: 0.3938 - accuracy: 0.8338 - val_loss: 0.3850 - val_accuracy: 0.8398\n",
      "Epoch 136/157\n",
      "8/8 [==============================] - 0s 8ms/step - loss: 0.3923 - accuracy: 0.8387 - val_loss: 0.3840 - val_accuracy: 0.8398\n",
      "Epoch 137/157\n",
      "8/8 [==============================] - 0s 8ms/step - loss: 0.3964 - accuracy: 0.8316 - val_loss: 0.3822 - val_accuracy: 0.8430\n",
      "Epoch 138/157\n",
      "8/8 [==============================] - 0s 8ms/step - loss: 0.3950 - accuracy: 0.8340 - val_loss: 0.3818 - val_accuracy: 0.8422\n",
      "Epoch 139/157\n",
      "8/8 [==============================] - 0s 8ms/step - loss: 0.3934 - accuracy: 0.8381 - val_loss: 0.3816 - val_accuracy: 0.8414\n",
      "Epoch 140/157\n",
      "8/8 [==============================] - 0s 8ms/step - loss: 0.3982 - accuracy: 0.8352 - val_loss: 0.3819 - val_accuracy: 0.8414\n",
      "Epoch 141/157\n",
      "8/8 [==============================] - 0s 9ms/step - loss: 0.3898 - accuracy: 0.8369 - val_loss: 0.3833 - val_accuracy: 0.8398\n",
      "Epoch 142/157\n",
      "8/8 [==============================] - 0s 9ms/step - loss: 0.3871 - accuracy: 0.8393 - val_loss: 0.3823 - val_accuracy: 0.8406\n",
      "Epoch 143/157\n",
      "8/8 [==============================] - 0s 10ms/step - loss: 0.3832 - accuracy: 0.8416 - val_loss: 0.3798 - val_accuracy: 0.8422\n",
      "Epoch 144/157\n",
      "8/8 [==============================] - 0s 9ms/step - loss: 0.3950 - accuracy: 0.8365 - val_loss: 0.3789 - val_accuracy: 0.8430\n",
      "Epoch 145/157\n",
      "8/8 [==============================] - 0s 9ms/step - loss: 0.3875 - accuracy: 0.8391 - val_loss: 0.3780 - val_accuracy: 0.8422\n",
      "Epoch 146/157\n",
      "8/8 [==============================] - 0s 7ms/step - loss: 0.3932 - accuracy: 0.8369 - val_loss: 0.3779 - val_accuracy: 0.8422\n",
      "Epoch 147/157\n",
      "8/8 [==============================] - 0s 8ms/step - loss: 0.3909 - accuracy: 0.8393 - val_loss: 0.3774 - val_accuracy: 0.8500\n",
      "Epoch 148/157\n",
      "8/8 [==============================] - 0s 7ms/step - loss: 0.3918 - accuracy: 0.8379 - val_loss: 0.3778 - val_accuracy: 0.8453\n",
      "Epoch 149/157\n",
      "8/8 [==============================] - 0s 8ms/step - loss: 0.3855 - accuracy: 0.8424 - val_loss: 0.3775 - val_accuracy: 0.8453\n",
      "Epoch 150/157\n",
      "8/8 [==============================] - 0s 9ms/step - loss: 0.3863 - accuracy: 0.8383 - val_loss: 0.3771 - val_accuracy: 0.8469\n",
      "Epoch 151/157\n",
      "8/8 [==============================] - 0s 7ms/step - loss: 0.3905 - accuracy: 0.8406 - val_loss: 0.3761 - val_accuracy: 0.8477\n",
      "Epoch 152/157\n",
      "8/8 [==============================] - 0s 10ms/step - loss: 0.3845 - accuracy: 0.8393 - val_loss: 0.3757 - val_accuracy: 0.8477\n",
      "Epoch 153/157\n",
      "8/8 [==============================] - 0s 9ms/step - loss: 0.3919 - accuracy: 0.8395 - val_loss: 0.3757 - val_accuracy: 0.8492\n",
      "Epoch 154/157\n",
      "8/8 [==============================] - 0s 9ms/step - loss: 0.3887 - accuracy: 0.8402 - val_loss: 0.3759 - val_accuracy: 0.8492\n",
      "Epoch 155/157\n",
      "8/8 [==============================] - 0s 7ms/step - loss: 0.3954 - accuracy: 0.8326 - val_loss: 0.3766 - val_accuracy: 0.8484\n",
      "Epoch 156/157\n",
      "8/8 [==============================] - 0s 7ms/step - loss: 0.3829 - accuracy: 0.8393 - val_loss: 0.3764 - val_accuracy: 0.8484\n",
      "Epoch 157/157\n",
      "8/8 [==============================] - 0s 7ms/step - loss: 0.3907 - accuracy: 0.8355 - val_loss: 0.3755 - val_accuracy: 0.8484\n"
     ]
    }
   ],
   "source": [
    "#Training Multi-layer perceptron with 2 hidden layers\n",
    "\n",
    "#adding earlystopping callback\n",
    "es= keras.callbacks.EarlyStopping(monitor='val_loss',\n",
    "                              min_delta=0,\n",
    "                              patience=15,\n",
    " \n",
    "                             verbose=0, mode='min', restore_best_weights= True)\n",
    "Model2 = Sequential()\n",
    "#Initializing the weights uisng hue_normal \n",
    "Model2.add(Dense(65, input_dim = 11, kernel_initializer='he_normal', activation='relu'))\n",
    "Model2.add(Dropout(0.5))\n",
    "Model2.add(Dense(65, kernel_initializer='he_normal', activation='relu'))\n",
    "Model2.add(Dropout(0.1))\n",
    "Model2.add(Dense(1, kernel_initializer='he_normal', activation='sigmoid'))\n",
    "\n",
    "Model2.compile(Adam(lr=0.001), loss='binary_crossentropy', metrics=['accuracy'])\n",
    "    \n",
    "his_mod2= Model2.fit(X_train, y_train, validation_split=0.2, batch_size=700, epochs=157, callbacks=[es], shuffle=True, verbose=1)"
   ]
  },
  {
   "cell_type": "markdown",
   "id": "NKEcLRSDStsS",
   "metadata": {
    "id": "NKEcLRSDStsS"
   },
   "source": [
    "*   Plotting the train and validation loss"
   ]
  },
  {
   "cell_type": "code",
   "execution_count": 48,
   "id": "6d93c0bc",
   "metadata": {
    "colab": {
     "base_uri": "https://localhost:8080/",
     "height": 282
    },
    "executionInfo": {
     "elapsed": 173,
     "status": "ok",
     "timestamp": 1637380693937,
     "user": {
      "displayName": "Stephen Catalfio",
      "photoUrl": "https://lh3.googleusercontent.com/a/default-user=s64",
      "userId": "01995132954552918474"
     },
     "user_tz": 420
    },
    "id": "6d93c0bc",
    "outputId": "e7b6ddc3-e696-4f4c-c116-cec7397054aa"
   },
   "outputs": [
    {
     "data": {
      "text/plain": [
       "<matplotlib.legend.Legend at 0x7fe28b3af610>"
      ]
     },
     "execution_count": 48,
     "metadata": {},
     "output_type": "execute_result"
    },
    {
     "data": {
      "image/png": "[encoded data removed]",
      "text/plain": [
       "<Figure size 432x288 with 1 Axes>"
      ]
     },
     "metadata": {
      "needs_background": "light"
     },
     "output_type": "display_data"
    }
   ],
   "source": [
    "# Capturing learning history per epoch\n",
    "hist  = pd.DataFrame(his_mod2.history)\n",
    "hist['epoch'] = his_mod2.epoch\n",
    "\n",
    "# Plotting accuracy at different epochs\n",
    "plt.plot(hist['loss'])\n",
    "plt.plot(hist['val_loss'])\n",
    "plt.legend((\"train\" , \"valid\") , loc =0)"
   ]
  },
  {
   "cell_type": "code",
   "execution_count": 49,
   "id": "28314a13",
   "metadata": {
    "colab": {
     "base_uri": "https://localhost:8080/",
     "height": 338
    },
    "executionInfo": {
     "elapsed": 581,
     "status": "ok",
     "timestamp": 1637380694516,
     "user": {
      "displayName": "Stephen Catalfio",
      "photoUrl": "https://lh3.googleusercontent.com/a/default-user=s64",
      "userId": "01995132954552918474"
     },
     "user_tz": 420
    },
    "id": "28314a13",
    "outputId": "c18b9765-4945-40b5-93b2-f8a7d99fe5c1"
   },
   "outputs": [
    {
     "data": {
      "image/png": "[encoded data removed]",
      "text/plain": [
       "<Figure size 432x288 with 2 Axes>"
      ]
     },
     "metadata": {
      "needs_background": "light"
     },
     "output_type": "display_data"
    }
   ],
   "source": [
    "## Confusion Matrix on unsee test set\n",
    "import seaborn as sn\n",
    "y_pred1 = Model2.predict(X_test)\n",
    "for i in range(len(y_test)):\n",
    "    if y_pred1[i]>0.5:\n",
    "        y_pred1[i]=1 \n",
    "    else:\n",
    "        y_pred1[i]=0\n",
    "\n",
    "\n",
    "\n",
    "cm2=confusion_matrix(y_test, y_pred1)\n",
    "labels = ['True Negative','False Positive','False Negative','True Positive']\n",
    "categories = [ 'Not_Exited','Exited']\n",
    "make_confusion_matrix(cm2, \n",
    "                      group_names=labels,\n",
    "                      categories=categories, \n",
    "                      cmap='Blues')"
   ]
  },
  {
   "cell_type": "markdown",
   "id": "3IksCf0KS3Ez",
   "metadata": {
    "id": "3IksCf0KS3Ez"
   },
   "source": [
    "*   Plotting confusion matrix"
   ]
  },
  {
   "cell_type": "markdown",
   "id": "6vztOH14TA0t",
   "metadata": {
    "id": "6vztOH14TA0t"
   },
   "source": [
    "#### **Conclusion:**\n",
    "\n",
    "As you can see here the Recall of the model is not improved.  It is the same as the Previous ANN model.\n",
    "\n",
    "Let's try weighted loss for imbalance dataset"
   ]
  },
  {
   "cell_type": "markdown",
   "id": "6sv5sudXTZ8J",
   "metadata": {
    "id": "6sv5sudXTZ8J"
   },
   "source": [
    "### **Model Improvement - Weighted loss to account for large class imbalance in train dataset**"
   ]
  },
  {
   "cell_type": "markdown",
   "id": "9fYJKFvNT1HZ",
   "metadata": {
    "id": "9fYJKFvNT1HZ"
   },
   "source": [
    "*   we will adjust the class imbalance by giving additional weight to the loss associated to errors made on fraudulent transaction detection.\n",
    "*   We will use our first ANN model and apply weighted loss"
   ]
  },
  {
   "cell_type": "code",
   "execution_count": 50,
   "id": "9bd37f09",
   "metadata": {
    "executionInfo": {
     "elapsed": 4,
     "status": "ok",
     "timestamp": 1637380694516,
     "user": {
      "displayName": "Stephen Catalfio",
      "photoUrl": "https://lh3.googleusercontent.com/a/default-user=s64",
      "userId": "01995132954552918474"
     },
     "user_tz": 420
    },
    "id": "9bd37f09"
   },
   "outputs": [],
   "source": [
    "from sklearn.utils import class_weight\n",
    "from sklearn.utils import compute_class_weight\n",
    "from sklearn.utils import compute_sample_weight"
   ]
  },
  {
   "cell_type": "code",
   "execution_count": 51,
   "id": "apFaH1c-tLde",
   "metadata": {
    "colab": {
     "base_uri": "https://localhost:8080/"
    },
    "executionInfo": {
     "elapsed": 4,
     "status": "ok",
     "timestamp": 1637380694517,
     "user": {
      "displayName": "Stephen Catalfio",
      "photoUrl": "https://lh3.googleusercontent.com/a/default-user=s64",
      "userId": "01995132954552918474"
     },
     "user_tz": 420
    },
    "id": "apFaH1c-tLde",
    "outputId": "dce5f42d-81b1-43c9-afd0-004d0c1970e6"
   },
   "outputs": [
    {
     "data": {
      "text/plain": [
       "{0: 0.6264682850430697, 1: 2.476780185758514}"
      ]
     },
     "execution_count": 51,
     "metadata": {},
     "output_type": "execute_result"
    }
   ],
   "source": [
    "class_weights = class_weight.compute_class_weight('balanced', classes=np.unique(y_train), y=y_train[:,0])\n",
    "class_weights = dict(enumerate(class_weights))\n",
    "class_weights"
   ]
  },
  {
   "cell_type": "markdown",
   "id": "QBs7OXSMUFzu",
   "metadata": {
    "id": "QBs7OXSMUFzu"
   },
   "source": [
    "*   The class 'Exited' (y=1) is assigned a weight of 2.476 vs 0.62 for the class 'not Exited' due to the very low prevalence we detected during data exploration. This allows the model to give more importance to the errors made on fraudulent cases during training."
   ]
  },
  {
   "cell_type": "code",
   "execution_count": 52,
   "id": "7e282e11",
   "metadata": {
    "colab": {
     "base_uri": "https://localhost:8080/"
    },
    "executionInfo": {
     "elapsed": 10692,
     "status": "ok",
     "timestamp": 1637380705206,
     "user": {
      "displayName": "Stephen Catalfio",
      "photoUrl": "https://lh3.googleusercontent.com/a/default-user=s64",
      "userId": "01995132954552918474"
     },
     "user_tz": 420
    },
    "id": "7e282e11",
    "outputId": "b5e8fbd2-2d59-44d9-e6f7-d9d518c69b4d"
   },
   "outputs": [
    {
     "name": "stdout",
     "output_type": "stream",
     "text": [
      "Epoch 1/5\n",
      "427/427 [==============================] - 2s 5ms/step - loss: 0.5393 - accuracy: 0.7350\n",
      "Epoch 2/5\n",
      "427/427 [==============================] - 2s 5ms/step - loss: 0.5145 - accuracy: 0.7409\n",
      "Epoch 3/5\n",
      "427/427 [==============================] - 2s 5ms/step - loss: 0.5118 - accuracy: 0.7358\n",
      "Epoch 4/5\n",
      "427/427 [==============================] - 2s 5ms/step - loss: 0.5033 - accuracy: 0.7453\n",
      "Epoch 5/5\n",
      "427/427 [==============================] - 2s 5ms/step - loss: 0.4993 - accuracy: 0.7577\n"
     ]
    },
    {
     "data": {
      "text/plain": [
       "<keras.callbacks.History at 0x7fe28db47ad0>"
      ]
     },
     "execution_count": 52,
     "metadata": {},
     "output_type": "execute_result"
    }
   ],
   "source": [
    "model.fit(X_train,y_train,batch_size=15,epochs=5, class_weight=class_weights, shuffle=True)\n"
   ]
  },
  {
   "cell_type": "code",
   "execution_count": 53,
   "id": "20501469",
   "metadata": {
    "colab": {
     "base_uri": "https://localhost:8080/"
    },
    "executionInfo": {
     "elapsed": 157,
     "status": "ok",
     "timestamp": 1637380705356,
     "user": {
      "displayName": "Stephen Catalfio",
      "photoUrl": "https://lh3.googleusercontent.com/a/default-user=s64",
      "userId": "01995132954552918474"
     },
     "user_tz": 420
    },
    "id": "20501469",
    "outputId": "2fd7b64d-aa0b-448b-e60c-c82bfe8ea57d"
   },
   "outputs": [
    {
     "name": "stdout",
     "output_type": "stream",
     "text": [
      "63/63 [==============================] - 0s 3ms/step - loss: 0.5173 - accuracy: 0.7355\n"
     ]
    }
   ],
   "source": [
    "score_weighted = model.evaluate(X_test, y_test)"
   ]
  },
  {
   "cell_type": "code",
   "execution_count": 54,
   "id": "186c9559",
   "metadata": {
    "colab": {
     "base_uri": "https://localhost:8080/",
     "height": 338
    },
    "executionInfo": {
     "elapsed": 550,
     "status": "ok",
     "timestamp": 1637380705905,
     "user": {
      "displayName": "Stephen Catalfio",
      "photoUrl": "https://lh3.googleusercontent.com/a/default-user=s64",
      "userId": "01995132954552918474"
     },
     "user_tz": 420
    },
    "id": "186c9559",
    "outputId": "b7b89b2f-5c84-4259-91b7-a681964903e1"
   },
   "outputs": [
    {
     "data": {
      "image/png": "[encoded data removed]",
      "text/plain": [
       "<Figure size 432x288 with 2 Axes>"
      ]
     },
     "metadata": {
      "needs_background": "light"
     },
     "output_type": "display_data"
    }
   ],
   "source": [
    "#Confusion Matrix on unsee test set\n",
    "import seaborn as sn\n",
    "y_pred1 = model.predict(X_test)\n",
    "for i in range(len(y_test)):\n",
    "    if y_pred1[i]>0.5:\n",
    "        y_pred1[i]=1 \n",
    "    else:\n",
    "        y_pred1[i]=0\n",
    "\n",
    "\n",
    "\n",
    "cm2=confusion_matrix(y_test, y_pred1)\n",
    "labels = ['True Negative','False Positive','False Negative','True Positive']\n",
    "categories = [ 'Not_Exited','Exited']\n",
    "make_confusion_matrix(cm2, \n",
    "                      group_names=labels,\n",
    "                      categories=categories, \n",
    "                      cmap='Blues')"
   ]
  },
  {
   "cell_type": "markdown",
   "id": "kv27cWkCUakz",
   "metadata": {
    "id": "kv27cWkCUakz"
   },
   "source": [
    "**Conclusion:**\n",
    "\n",
    "As you can see here, the Recall is increased but the precision is very bad. \n",
    "\n",
    "There is still lot of scope of improvements as follows:\n",
    "\n",
    "1) Threshold can be tuned to get the optimal value\n",
    "\n",
    "2) Resampling techniques can be applied to balanced the data and then train the model\n",
    "\n",
    "3) Hyperparameter tuning can be applied to tune the different Hyperparameters\n"
   ]
  },
  {
   "cell_type": "markdown",
   "id": "VJior0S9U7R6",
   "metadata": {
    "id": "VJior0S9U7R6"
   },
   "source": [
    "### **Model Performance Evaluation**"
   ]
  },
  {
   "cell_type": "markdown",
   "id": "_lHYmiWIU_qg",
   "metadata": {
    "id": "_lHYmiWIU_qg"
   },
   "source": [
    "**Model:**\n",
    "\n",
    "*   We will use a simple NN made of 5 fully-connected layers with ReLu activation. \n",
    "*   The NN takes a vector of length 11 as input. This represents the information related to each transactions, ie each line with 11 columns from the dataset. \n",
    "*   For each transaction, the final layer will output a probability distribution (sigmoid activation function) and classify either as Exited (0) or not Exited (1). \n",
    "*   A dropout step is included to prevent overfitting.\n",
    "*   The recall score is low at .388.\n",
    "*   Accuracy score is ok at .847\n",
    "*   Precision score is ok at .756.\n",
    "\n",
    "\n",
    "**Model-2:**\n",
    "\n",
    "*   Early Stopping:  During training, the model is evaluated on a holdout validation dataset after each epoch. If the performance of the model on the validation dataset starts to degrade or no improvement (e.g. loss begins to increase or accuracy begins to decrease), then the training process is stopped after the certian interations.The model at the time that training is stopped is then used and is known to have good generalization performance.\n",
    "*   I tried multiple learning rates including, but not limited to, .01, .1, .05, .001 and settles on .001.\n",
    "*   I settled on 157 epochs as that is when the loss function stopped declining.  It even started progressing as the epochs stretched closer to 200.\n",
    "*   From a few epochs up to 157, the recall score would increase gradually as would precision and accuracy.\n",
    "*   Accuracy with a rate of .855 and Precision with a rate of .813 are decent scores.\n",
    "*   Our F1 score remains low due to the low recall score.  I\n",
    "\n",
    "\n",
    "**Weighted Model**\n",
    "\n",
    "*   Weight initialization is an important consideration in the design of a neural network model.\n",
    "*   The nodes in neural networks are composed of parameters referred to as weights used to calculate a weighted sum of the inputs.\n",
    "*   Neural network models are fit using an optimization algorithm called stochastic gradient descent that incrementally changes the network weights to minimize a loss function, hopefully resulting in a set of weights for the mode that is capable of making useful predictions.\n",
    "*   Most noteably, our recall score has greatly increased using the weighted model to .829.\n",
    "*   The weighted model also offers the best F1 score but by a small margin.\n",
    "*   Accuracy of the weighted model has also decreased by a small margin.\n",
    "*   Precision has seen drastic change, much like recall, but in the opposite direction.  The weighted model has by far the lowest precision score at .429.\n"
   ]
  },
  {
   "cell_type": "markdown",
   "id": "eZpKvBc1Zfpv",
   "metadata": {
    "id": "eZpKvBc1Zfpv"
   },
   "source": [
    "###  **Conclusion and key takeaways**"
   ]
  },
  {
   "cell_type": "markdown",
   "id": "2tVvkmt5aJKO",
   "metadata": {
    "id": "2tVvkmt5aJKO"
   },
   "source": [
    "*   Since the weighted model provides the least false negatives by a large amount, I would choose this as our final model.\n",
    "*   As you can see here the Recall is increased but the precision is very bad. There is still lot of scope of improvements as follows:\n",
    "*   Threshold can be tuned to get the optimal value\n",
    "*   Resampling techniques can be applied to balanced the data and then train the model\n",
    "*   Hyperparameter tuning can be applied to tune the different Hyperparameters\n",
    "\n"
   ]
  },
  {
   "cell_type": "markdown",
   "id": "1asUIF1BbHh1",
   "metadata": {
    "id": "1asUIF1BbHh1"
   },
   "source": [
    "#####  *Created by Stephen Catalfio*"
   ]
  }
 ],
 "metadata": {
  "accelerator": "GPU",
  "colab": {
   "collapsed_sections": [],
   "name": "Bank_Churn_ANN_Project_Catalfio.ipynb",
   "provenance": []
  },
  "kernelspec": {
   "display_name": "Python 3",
   "language": "python",
   "name": "python3"
  },
  "language_info": {
   "codemirror_mode": {
    "name": "ipython",
    "version": 3
   },
   "file_extension": ".py",
   "mimetype": "text/x-python",
   "name": "python",
   "nbconvert_exporter": "python",
   "pygments_lexer": "ipython3",
   "version": "3.8.8"
  }
 },
 "nbformat": 4,
 "nbformat_minor": 5
}
